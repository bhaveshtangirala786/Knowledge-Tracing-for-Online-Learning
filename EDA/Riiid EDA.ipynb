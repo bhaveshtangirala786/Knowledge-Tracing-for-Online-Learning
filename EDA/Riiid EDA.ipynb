{
 "cells": [
  {
   "cell_type": "code",
   "execution_count": 1,
   "metadata": {
    "_cell_guid": "b1076dfc-b9ad-4769-8c92-a6c4dae69d19",
    "_uuid": "8f2839f25d086af736a60e9eeb907d3b93b6e0e5",
    "execution": {
     "iopub.execute_input": "2021-01-11T12:28:42.719587Z",
     "iopub.status.busy": "2021-01-11T12:28:42.718805Z",
     "iopub.status.idle": "2021-01-11T12:28:44.138663Z",
     "shell.execute_reply": "2021-01-11T12:28:44.139373Z"
    },
    "papermill": {
     "duration": 1.457496,
     "end_time": "2021-01-11T12:28:44.139587",
     "exception": false,
     "start_time": "2021-01-11T12:28:42.682091",
     "status": "completed"
    },
    "tags": []
   },
   "outputs": [],
   "source": [
    "import gc\n",
    "import numpy as np\n",
    "import pandas as pd \n",
    "import seaborn as sns\n",
    "import matplotlib.pyplot as plt"
   ]
  },
  {
   "cell_type": "markdown",
   "metadata": {
    "papermill": {
     "duration": 0.03018,
     "end_time": "2021-01-11T12:28:44.200156",
     "exception": false,
     "start_time": "2021-01-11T12:28:44.169976",
     "status": "completed"
    },
    "tags": []
   },
   "source": [
    "As the training data is very large, I used the feather format of the training data from [here](https://www.kaggle.com/rohanrao/riiid-train-data-multiple-formats). The loading time is drastically reduced compared to that of reading a csv file.\n",
    "As we can see, there are nearly 101 million rows in the dataset"
   ]
  },
  {
   "cell_type": "code",
   "execution_count": 2,
   "metadata": {
    "execution": {
     "iopub.execute_input": "2021-01-11T12:28:44.263874Z",
     "iopub.status.busy": "2021-01-11T12:28:44.263214Z",
     "iopub.status.idle": "2021-01-11T12:29:31.881736Z",
     "shell.execute_reply": "2021-01-11T12:29:31.882410Z"
    },
    "papermill": {
     "duration": 47.652314,
     "end_time": "2021-01-11T12:29:31.882571",
     "exception": false,
     "start_time": "2021-01-11T12:28:44.230257",
     "status": "completed"
    },
    "tags": []
   },
   "outputs": [
    {
     "name": "stdout",
     "output_type": "stream",
     "text": [
      "Size of Training Data :  (101230332, 10)\n",
      "CPU times: user 32.7 s, sys: 10.7 s, total: 43.4 s\n",
      "Wall time: 47.6 s\n"
     ]
    }
   ],
   "source": [
    "%%time\n",
    "df = pd.read_feather('../input/riiid-train-data-multiple-formats/riiid_train.feather')\n",
    "df['prior_question_had_explanation'] = df['prior_question_had_explanation'].astype('boolean')\n",
    "print('Size of Training Data : ', df.shape)"
   ]
  },
  {
   "cell_type": "code",
   "execution_count": 3,
   "metadata": {
    "execution": {
     "iopub.execute_input": "2021-01-11T12:29:31.955179Z",
     "iopub.status.busy": "2021-01-11T12:29:31.954430Z",
     "iopub.status.idle": "2021-01-11T12:29:32.020320Z",
     "shell.execute_reply": "2021-01-11T12:29:32.020954Z"
    },
    "papermill": {
     "duration": 0.107186,
     "end_time": "2021-01-11T12:29:32.021136",
     "exception": false,
     "start_time": "2021-01-11T12:29:31.913950",
     "status": "completed"
    },
    "tags": []
   },
   "outputs": [],
   "source": [
    "# Dataset used : https://www.kaggle.com/c/riiid-test-answer-prediction\n",
    "questions = pd.read_csv('/kaggle/input/riiid-test-answer-prediction/questions.csv')\n",
    "lectures = pd.read_csv('/kaggle/input/riiid-test-answer-prediction/lectures.csv')\n",
    "example_test = pd.read_csv('/kaggle/input/riiid-test-answer-prediction/example_test.csv')\n",
    "example_sample_submission = pd.read_csv('/kaggle/input/riiid-test-answer-prediction/example_sample_submission.csv')"
   ]
  },
  {
   "cell_type": "markdown",
   "metadata": {
    "papermill": {
     "duration": 0.031619,
     "end_time": "2021-01-11T12:29:32.083973",
     "exception": false,
     "start_time": "2021-01-11T12:29:32.052354",
     "status": "completed"
    },
    "tags": []
   },
   "source": [
    "# **Exploring Train**"
   ]
  },
  {
   "cell_type": "markdown",
   "metadata": {
    "papermill": {
     "duration": 0.031335,
     "end_time": "2021-01-11T12:29:32.146513",
     "exception": false,
     "start_time": "2021-01-11T12:29:32.115178",
     "status": "completed"
    },
    "tags": []
   },
   "source": [
    "Let us see the memory usage of the training data"
   ]
  },
  {
   "cell_type": "code",
   "execution_count": 4,
   "metadata": {
    "execution": {
     "iopub.execute_input": "2021-01-11T12:29:32.213346Z",
     "iopub.status.busy": "2021-01-11T12:29:32.212252Z",
     "iopub.status.idle": "2021-01-11T12:29:32.232089Z",
     "shell.execute_reply": "2021-01-11T12:29:32.233206Z"
    },
    "papermill": {
     "duration": 0.05614,
     "end_time": "2021-01-11T12:29:32.233444",
     "exception": false,
     "start_time": "2021-01-11T12:29:32.177304",
     "status": "completed"
    },
    "tags": []
   },
   "outputs": [
    {
     "name": "stdout",
     "output_type": "stream",
     "text": [
      "<class 'pandas.core.frame.DataFrame'>\n",
      "RangeIndex: 101230332 entries, 0 to 101230331\n",
      "Data columns (total 10 columns):\n",
      " #   Column                          Dtype  \n",
      "---  ------                          -----  \n",
      " 0   row_id                          int64  \n",
      " 1   timestamp                       int64  \n",
      " 2   user_id                         int32  \n",
      " 3   content_id                      int16  \n",
      " 4   content_type_id                 bool   \n",
      " 5   task_container_id               int16  \n",
      " 6   user_answer                     int8   \n",
      " 7   answered_correctly              int8   \n",
      " 8   prior_question_elapsed_time     float32\n",
      " 9   prior_question_had_explanation  boolean\n",
      "dtypes: bool(1), boolean(1), float32(1), int16(2), int32(1), int64(2), int8(2)\n",
      "memory usage: 3.1 GB\n"
     ]
    }
   ],
   "source": [
    "df.info()"
   ]
  },
  {
   "cell_type": "markdown",
   "metadata": {
    "papermill": {
     "duration": 0.031065,
     "end_time": "2021-01-11T12:29:32.296316",
     "exception": false,
     "start_time": "2021-01-11T12:29:32.265251",
     "status": "completed"
    },
    "tags": []
   },
   "source": [
    "**Brief idea about the training data**\n",
    "\n",
    "**row_id**: (int64) ID code for the row.\n",
    "\n",
    "**timestamp**: (int64) the time between this user interaction and the first event from that user.\n",
    "\n",
    "**user_id**: (int32) ID code for the user.\n",
    "\n",
    "**content_id**: (int16) ID code for the user interaction\n",
    "\n",
    "**content_type_id**: (int8) 0 if the event was a question being posed to the user, 1 if the event was the user watching a lecture.\n",
    "\n",
    "**task_container_id**: (int16) Id code for the batch of questions or lectures. For example, a user might see three questions in a row before seeing the explanations for any of them. Those three would all share a task_container_id. Monotonically increasing for each user.\n",
    "\n",
    "**user_answer**: (int8) the user's answer to the question, if any. Read -1 as null, for lectures.\n",
    "\n",
    "**answered_correctly**: (int8) if the user responded correctly. Read -1 as null, for lectures.\n",
    "\n",
    "**prior_question_elapsed_time**: (float32) How long it took a user to answer their previous question bundle, ignoring any lectures in between. The value is shared across a single question bundle, and is null for a user's first question bundle or lecture. Note that the time is the total time a user took to solve all the questions in the previous bundle.\n",
    "\n",
    "**prior_question_had_explanation**: (bool) Whether or not the user saw an explanation and the correct response(s) after answering the previous question bundle, ignoring any lectures in between. The value is shared across a single question bundle, and is null for a user's first question bundle or lecture. Typically the first several questions a user sees were part of an onboarding diagnostic test where they did not get any feedback."
   ]
  },
  {
   "cell_type": "code",
   "execution_count": 5,
   "metadata": {
    "execution": {
     "iopub.execute_input": "2021-01-11T12:29:32.362739Z",
     "iopub.status.busy": "2021-01-11T12:29:32.361996Z",
     "iopub.status.idle": "2021-01-11T12:29:32.382990Z",
     "shell.execute_reply": "2021-01-11T12:29:32.383597Z"
    },
    "papermill": {
     "duration": 0.056168,
     "end_time": "2021-01-11T12:29:32.383754",
     "exception": false,
     "start_time": "2021-01-11T12:29:32.327586",
     "status": "completed"
    },
    "tags": []
   },
   "outputs": [
    {
     "data": {
      "text/html": [
       "<div>\n",
       "<style scoped>\n",
       "    .dataframe tbody tr th:only-of-type {\n",
       "        vertical-align: middle;\n",
       "    }\n",
       "\n",
       "    .dataframe tbody tr th {\n",
       "        vertical-align: top;\n",
       "    }\n",
       "\n",
       "    .dataframe thead th {\n",
       "        text-align: right;\n",
       "    }\n",
       "</style>\n",
       "<table border=\"1\" class=\"dataframe\">\n",
       "  <thead>\n",
       "    <tr style=\"text-align: right;\">\n",
       "      <th></th>\n",
       "      <th>row_id</th>\n",
       "      <th>timestamp</th>\n",
       "      <th>user_id</th>\n",
       "      <th>content_id</th>\n",
       "      <th>content_type_id</th>\n",
       "      <th>task_container_id</th>\n",
       "      <th>user_answer</th>\n",
       "      <th>answered_correctly</th>\n",
       "      <th>prior_question_elapsed_time</th>\n",
       "      <th>prior_question_had_explanation</th>\n",
       "    </tr>\n",
       "  </thead>\n",
       "  <tbody>\n",
       "    <tr>\n",
       "      <th>0</th>\n",
       "      <td>0</td>\n",
       "      <td>0</td>\n",
       "      <td>115</td>\n",
       "      <td>5692</td>\n",
       "      <td>False</td>\n",
       "      <td>1</td>\n",
       "      <td>3</td>\n",
       "      <td>1</td>\n",
       "      <td>NaN</td>\n",
       "      <td>&lt;NA&gt;</td>\n",
       "    </tr>\n",
       "    <tr>\n",
       "      <th>1</th>\n",
       "      <td>1</td>\n",
       "      <td>56943</td>\n",
       "      <td>115</td>\n",
       "      <td>5716</td>\n",
       "      <td>False</td>\n",
       "      <td>2</td>\n",
       "      <td>2</td>\n",
       "      <td>1</td>\n",
       "      <td>37000.0</td>\n",
       "      <td>False</td>\n",
       "    </tr>\n",
       "    <tr>\n",
       "      <th>2</th>\n",
       "      <td>2</td>\n",
       "      <td>118363</td>\n",
       "      <td>115</td>\n",
       "      <td>128</td>\n",
       "      <td>False</td>\n",
       "      <td>0</td>\n",
       "      <td>0</td>\n",
       "      <td>1</td>\n",
       "      <td>55000.0</td>\n",
       "      <td>False</td>\n",
       "    </tr>\n",
       "    <tr>\n",
       "      <th>3</th>\n",
       "      <td>3</td>\n",
       "      <td>131167</td>\n",
       "      <td>115</td>\n",
       "      <td>7860</td>\n",
       "      <td>False</td>\n",
       "      <td>3</td>\n",
       "      <td>0</td>\n",
       "      <td>1</td>\n",
       "      <td>19000.0</td>\n",
       "      <td>False</td>\n",
       "    </tr>\n",
       "    <tr>\n",
       "      <th>4</th>\n",
       "      <td>4</td>\n",
       "      <td>137965</td>\n",
       "      <td>115</td>\n",
       "      <td>7922</td>\n",
       "      <td>False</td>\n",
       "      <td>4</td>\n",
       "      <td>1</td>\n",
       "      <td>1</td>\n",
       "      <td>11000.0</td>\n",
       "      <td>False</td>\n",
       "    </tr>\n",
       "  </tbody>\n",
       "</table>\n",
       "</div>"
      ],
      "text/plain": [
       "   row_id  timestamp  user_id  content_id  content_type_id  task_container_id  \\\n",
       "0       0          0      115        5692            False                  1   \n",
       "1       1      56943      115        5716            False                  2   \n",
       "2       2     118363      115         128            False                  0   \n",
       "3       3     131167      115        7860            False                  3   \n",
       "4       4     137965      115        7922            False                  4   \n",
       "\n",
       "   user_answer  answered_correctly  prior_question_elapsed_time  \\\n",
       "0            3                   1                          NaN   \n",
       "1            2                   1                      37000.0   \n",
       "2            0                   1                      55000.0   \n",
       "3            0                   1                      19000.0   \n",
       "4            1                   1                      11000.0   \n",
       "\n",
       "   prior_question_had_explanation  \n",
       "0                            <NA>  \n",
       "1                           False  \n",
       "2                           False  \n",
       "3                           False  \n",
       "4                           False  "
      ]
     },
     "execution_count": 5,
     "metadata": {},
     "output_type": "execute_result"
    }
   ],
   "source": [
    "df.head()"
   ]
  },
  {
   "cell_type": "markdown",
   "metadata": {
    "papermill": {
     "duration": 0.03263,
     "end_time": "2021-01-11T12:29:32.448636",
     "exception": false,
     "start_time": "2021-01-11T12:29:32.416006",
     "status": "completed"
    },
    "tags": []
   },
   "source": [
    "Each **user_id** is a unique code to address each student"
   ]
  },
  {
   "cell_type": "code",
   "execution_count": 6,
   "metadata": {
    "execution": {
     "iopub.execute_input": "2021-01-11T12:29:32.516275Z",
     "iopub.status.busy": "2021-01-11T12:29:32.515632Z",
     "iopub.status.idle": "2021-01-11T12:29:33.526770Z",
     "shell.execute_reply": "2021-01-11T12:29:33.525793Z"
    },
    "papermill": {
     "duration": 1.04621,
     "end_time": "2021-01-11T12:29:33.526993",
     "exception": false,
     "start_time": "2021-01-11T12:29:32.480783",
     "status": "completed"
    },
    "tags": []
   },
   "outputs": [
    {
     "name": "stdout",
     "output_type": "stream",
     "text": [
      "There are 393656 students in the data\n"
     ]
    }
   ],
   "source": [
    "# total no. of students\n",
    "print(f'There are {df.user_id.nunique()} students in the data')"
   ]
  },
  {
   "cell_type": "code",
   "execution_count": 7,
   "metadata": {
    "execution": {
     "iopub.execute_input": "2021-01-11T12:29:33.608167Z",
     "iopub.status.busy": "2021-01-11T12:29:33.607347Z",
     "iopub.status.idle": "2021-01-11T12:29:36.795251Z",
     "shell.execute_reply": "2021-01-11T12:29:36.795758Z"
    },
    "papermill": {
     "duration": 3.231878,
     "end_time": "2021-01-11T12:29:36.795953",
     "exception": false,
     "start_time": "2021-01-11T12:29:33.564075",
     "status": "completed"
    },
    "tags": []
   },
   "outputs": [
    {
     "data": {
      "image/png": "[encoded data removed]",
      "text/plain": [
       "<Figure size 1152x720 with 1 Axes>"
      ]
     },
     "metadata": {
      "needs_background": "light"
     },
     "output_type": "display_data"
    }
   ],
   "source": [
    "# 30 Most active students\n",
    "x = df.user_id.value_counts()[:30]\n",
    "fig = plt.figure(figsize = (16,10))\n",
    "plt.title('Most Active Students')\n",
    "ax = x.plot.bar(xlabel = 'user_id', ylabel = 'number of interactions')\n",
    "plt.show()"
   ]
  },
  {
   "cell_type": "markdown",
   "metadata": {
    "papermill": {
     "duration": 0.035469,
     "end_time": "2021-01-11T12:29:36.867728",
     "exception": false,
     "start_time": "2021-01-11T12:29:36.832259",
     "status": "completed"
    },
    "tags": []
   },
   "source": [
    "If an interaction was a lecture, then **content_type_id** will be True. If **content_type_id** is False, it means that a question was asked"
   ]
  },
  {
   "cell_type": "code",
   "execution_count": 8,
   "metadata": {
    "execution": {
     "iopub.execute_input": "2021-01-11T12:29:36.963934Z",
     "iopub.status.busy": "2021-01-11T12:29:36.963013Z",
     "iopub.status.idle": "2021-01-11T12:29:37.937044Z",
     "shell.execute_reply": "2021-01-11T12:29:37.936214Z"
    },
    "papermill": {
     "duration": 1.034793,
     "end_time": "2021-01-11T12:29:37.937191",
     "exception": false,
     "start_time": "2021-01-11T12:29:36.902398",
     "status": "completed"
    },
    "tags": []
   },
   "outputs": [
    {
     "data": {
      "image/png": "[encoded data removed]",
      "text/plain": [
       "<Figure size 720x432 with 1 Axes>"
      ]
     },
     "metadata": {},
     "output_type": "display_data"
    }
   ],
   "source": [
    "# Lectures Vs Questions\n",
    "fig = plt.figure(figsize = (10, 6))\n",
    "plt.title('Number of lectures Vs Number of questions')\n",
    "ax = df.content_type_id.value_counts().plot.pie(labels=['Questions','Lectures'], autopct='%1.2f%%')\n",
    "ax.yaxis.set_visible(False)\n",
    "plt.show()"
   ]
  },
  {
   "cell_type": "markdown",
   "metadata": {
    "papermill": {
     "duration": 0.037166,
     "end_time": "2021-01-11T12:29:38.011974",
     "exception": false,
     "start_time": "2021-01-11T12:29:37.974808",
     "status": "completed"
    },
    "tags": []
   },
   "source": [
    "Each **content_id** represents a user interaction (i.e question or lecture) "
   ]
  },
  {
   "cell_type": "code",
   "execution_count": 9,
   "metadata": {
    "execution": {
     "iopub.execute_input": "2021-01-11T12:29:38.094484Z",
     "iopub.status.busy": "2021-01-11T12:29:38.093593Z",
     "iopub.status.idle": "2021-01-11T12:29:47.933677Z",
     "shell.execute_reply": "2021-01-11T12:29:47.933051Z"
    },
    "papermill": {
     "duration": 9.883668,
     "end_time": "2021-01-11T12:29:47.933818",
     "exception": false,
     "start_time": "2021-01-11T12:29:38.050150",
     "status": "completed"
    },
    "tags": []
   },
   "outputs": [
    {
     "name": "stdout",
     "output_type": "stream",
     "text": [
      "Out of 13782 different user interactions, 13523 are questions\n"
     ]
    }
   ],
   "source": [
    "print(f'Out of {df.content_id.nunique()} different user interactions, {df[df.content_type_id == False].content_id.nunique()} are questions')"
   ]
  },
  {
   "cell_type": "code",
   "execution_count": 10,
   "metadata": {
    "execution": {
     "iopub.execute_input": "2021-01-11T12:29:48.013566Z",
     "iopub.status.busy": "2021-01-11T12:29:48.012705Z",
     "iopub.status.idle": "2021-01-11T12:29:52.399581Z",
     "shell.execute_reply": "2021-01-11T12:29:52.398976Z"
    },
    "papermill": {
     "duration": 4.430457,
     "end_time": "2021-01-11T12:29:52.399716",
     "exception": false,
     "start_time": "2021-01-11T12:29:47.969259",
     "status": "completed"
    },
    "tags": []
   },
   "outputs": [
    {
     "data": {
      "image/png": "[encoded data removed]",
      "text/plain": [
       "<Figure size 1152x720 with 1 Axes>"
      ]
     },
     "metadata": {
      "needs_background": "light"
     },
     "output_type": "display_data"
    }
   ],
   "source": [
    "# 30 most frequent content_id interactions\n",
    "x = df.content_id.value_counts()[:30]\n",
    "fig = plt.figure(figsize = (16,10))\n",
    "plt.title('Most frequent user interactions')\n",
    "ax = x.plot.bar(xlabel = 'content_id', ylabel = 'number of interactions')\n",
    "plt.show()"
   ]
  },
  {
   "cell_type": "code",
   "execution_count": 11,
   "metadata": {
    "execution": {
     "iopub.execute_input": "2021-01-11T12:29:52.489519Z",
     "iopub.status.busy": "2021-01-11T12:29:52.488792Z",
     "iopub.status.idle": "2021-01-11T12:29:53.471040Z",
     "shell.execute_reply": "2021-01-11T12:29:53.470247Z"
    },
    "papermill": {
     "duration": 1.029901,
     "end_time": "2021-01-11T12:29:53.471184",
     "exception": false,
     "start_time": "2021-01-11T12:29:52.441283",
     "status": "completed"
    },
    "tags": []
   },
   "outputs": [
    {
     "name": "stdout",
     "output_type": "stream",
     "text": [
      "There are a total of 10000 batches of interactions\n"
     ]
    }
   ],
   "source": [
    "# batches of questions\n",
    "print(f'There are a total of {df.task_container_id.nunique()} batches of interactions')"
   ]
  },
  {
   "cell_type": "markdown",
   "metadata": {
    "papermill": {
     "duration": 0.037472,
     "end_time": "2021-01-11T12:29:53.546157",
     "exception": false,
     "start_time": "2021-01-11T12:29:53.508685",
     "status": "completed"
    },
    "tags": []
   },
   "source": [
    "User answers take values of -1, 0, 1, 2, 3. If answer is -1 it means that the interaction was a lecture. In all other cases, the answer is the student's response"
   ]
  },
  {
   "cell_type": "code",
   "execution_count": 12,
   "metadata": {
    "execution": {
     "iopub.execute_input": "2021-01-11T12:29:53.764678Z",
     "iopub.status.busy": "2021-01-11T12:29:53.630979Z",
     "iopub.status.idle": "2021-01-11T12:29:54.793580Z",
     "shell.execute_reply": "2021-01-11T12:29:54.794110Z"
    },
    "papermill": {
     "duration": 1.211091,
     "end_time": "2021-01-11T12:29:54.794282",
     "exception": false,
     "start_time": "2021-01-11T12:29:53.583191",
     "status": "completed"
    },
    "tags": []
   },
   "outputs": [
    {
     "data": {
      "image/png": "[encoded data removed]",
      "text/plain": [
       "<Figure size 720x432 with 1 Axes>"
      ]
     },
     "metadata": {},
     "output_type": "display_data"
    }
   ],
   "source": [
    "# User answers relative frequency\n",
    "fig = plt.figure(figsize = (10, 6))\n",
    "plt.title('Relative frequency of user answers')\n",
    "ax = df.user_answer.value_counts().plot.pie(autopct='%1.2f%%')\n",
    "ax.yaxis.set_visible(False)\n",
    "plt.show()"
   ]
  },
  {
   "cell_type": "code",
   "execution_count": 13,
   "metadata": {
    "execution": {
     "iopub.execute_input": "2021-01-11T12:29:54.883227Z",
     "iopub.status.busy": "2021-01-11T12:29:54.881652Z",
     "iopub.status.idle": "2021-01-11T12:30:11.648173Z",
     "shell.execute_reply": "2021-01-11T12:30:11.648687Z"
    },
    "papermill": {
     "duration": 16.815131,
     "end_time": "2021-01-11T12:30:11.648889",
     "exception": false,
     "start_time": "2021-01-11T12:29:54.833758",
     "status": "completed"
    },
    "tags": []
   },
   "outputs": [
    {
     "data": {
      "image/png": "[encoded data removed]",
      "text/plain": [
       "<Figure size 864x576 with 1 Axes>"
      ]
     },
     "metadata": {
      "needs_background": "light"
     },
     "output_type": "display_data"
    }
   ],
   "source": [
    "# Frequency plot of time between user interaction from 1st interaction\n",
    "# 1 year = 31536000000 ms\n",
    "ts = df['timestamp']/(31536000000/12) # time in months\n",
    "fig = plt.figure(figsize = (12,8))\n",
    "ts.plot.hist(bins = 100)\n",
    "plt.title('Frequency of user interaction along time')\n",
    "plt.xlabel('Months from 1st user interaction')\n",
    "plt.show()\n",
    "# No. interactions decrease along time"
   ]
  },
  {
   "cell_type": "markdown",
   "metadata": {
    "papermill": {
     "duration": 0.041783,
     "end_time": "2021-01-11T12:30:11.730218",
     "exception": false,
     "start_time": "2021-01-11T12:30:11.688435",
     "status": "completed"
    },
    "tags": []
   },
   "source": [
    "# Target : Answered_correctly\n",
    " If answered_correctly = -1, it means that the interaction was a lecture"
   ]
  },
  {
   "cell_type": "code",
   "execution_count": 14,
   "metadata": {
    "execution": {
     "iopub.execute_input": "2021-01-11T12:30:11.954280Z",
     "iopub.status.busy": "2021-01-11T12:30:11.953430Z",
     "iopub.status.idle": "2021-01-11T12:30:14.017478Z",
     "shell.execute_reply": "2021-01-11T12:30:14.016802Z"
    },
    "papermill": {
     "duration": 2.247841,
     "end_time": "2021-01-11T12:30:14.017626",
     "exception": false,
     "start_time": "2021-01-11T12:30:11.769785",
     "status": "completed"
    },
    "tags": []
   },
   "outputs": [
    {
     "data": {
      "image/png": "[encoded data removed]",
      "text/plain": [
       "<Figure size 720x432 with 1 Axes>"
      ]
     },
     "metadata": {},
     "output_type": "display_data"
    }
   ],
   "source": [
    "del ts\n",
    "_ = gc.collect()\n",
    "# percentage of correct answers\n",
    "x = df.answered_correctly.value_counts()\n",
    "fig = plt.figure(figsize = (10, 6))\n",
    "plt.title('Accuracy of users')\n",
    "ax = df.answered_correctly.value_counts().plot.pie(autopct='%1.2f%%')\n",
    "ax.yaxis.set_visible(False)\n",
    "plt.show()"
   ]
  },
  {
   "cell_type": "code",
   "execution_count": 15,
   "metadata": {
    "execution": {
     "iopub.execute_input": "2021-01-11T12:30:14.111746Z",
     "iopub.status.busy": "2021-01-11T12:30:14.110980Z",
     "iopub.status.idle": "2021-01-11T12:30:21.858707Z",
     "shell.execute_reply": "2021-01-11T12:30:21.859259Z"
    },
    "papermill": {
     "duration": 7.796503,
     "end_time": "2021-01-11T12:30:21.859427",
     "exception": false,
     "start_time": "2021-01-11T12:30:14.062924",
     "status": "completed"
    },
    "tags": []
   },
   "outputs": [
    {
     "data": {
      "image/png": "[encoded data removed]",
      "text/plain": [
       "<Figure size 864x288 with 1 Axes>"
      ]
     },
     "metadata": {
      "needs_background": "light"
     },
     "output_type": "display_data"
    }
   ],
   "source": [
    "x = df[df.answered_correctly != -1].answered_correctly.value_counts()\n",
    "fig = plt.figure(figsize = (12,4))\n",
    "ax = x.plot.barh()\n",
    "plt.title('Number of questions answered correctly')\n",
    "plt.show()"
   ]
  },
  {
   "cell_type": "markdown",
   "metadata": {
    "papermill": {
     "duration": 0.041041,
     "end_time": "2021-01-11T12:30:21.941794",
     "exception": false,
     "start_time": "2021-01-11T12:30:21.900753",
     "status": "completed"
    },
    "tags": []
   },
   "source": [
    "**timestamp**: (int64) the time between this user interaction and the first event from that user.\n",
    "\n",
    "Let us see the relation between **timestamp** and the target. I divided the data into 5 bins based on **timestamp** value. We can see that performance of recently joined students is a bit less compared to students who registered long ago."
   ]
  },
  {
   "cell_type": "code",
   "execution_count": 16,
   "metadata": {
    "execution": {
     "iopub.execute_input": "2021-01-11T12:30:22.029091Z",
     "iopub.status.busy": "2021-01-11T12:30:22.028349Z",
     "iopub.status.idle": "2021-01-11T12:30:49.986524Z",
     "shell.execute_reply": "2021-01-11T12:30:49.985780Z"
    },
    "papermill": {
     "duration": 28.002613,
     "end_time": "2021-01-11T12:30:49.986647",
     "exception": false,
     "start_time": "2021-01-11T12:30:21.984034",
     "status": "completed"
    },
    "tags": []
   },
   "outputs": [
    {
     "data": {
      "image/png": "[encoded data removed]",
      "text/plain": [
       "<Figure size 864x432 with 1 Axes>"
      ]
     },
     "metadata": {
      "needs_background": "light"
     },
     "output_type": "display_data"
    }
   ],
   "source": [
    "# percent correct gouped by timestamp\n",
    "bin_labels_5 = ['Bin_1', 'Bin_2', 'Bin_3', 'Bin_4', 'Bin_5']\n",
    "df['ts_bin'] = pd.qcut(df['timestamp'], q = 5, labels = bin_labels_5)\n",
    "\n",
    "# make function that can also be used for other fields\n",
    "def correct(field):\n",
    "    correct = df[df.answered_correctly != -1].groupby([field, 'answered_correctly'], as_index=False).size()\n",
    "    correct = correct.pivot(index= field, columns='answered_correctly', values='size')\n",
    "    correct['Percent_correct'] = round(correct.iloc[:,1]/(correct.iloc[:,0] + correct.iloc[:,1]),2)\n",
    "    correct = correct.iloc[:,2]\n",
    "    return correct\n",
    "\n",
    "bins_correct = correct(\"ts_bin\")\n",
    "bins_correct = bins_correct.sort_index()\n",
    "\n",
    "fig = plt.figure(figsize=(12,6))\n",
    "plt.bar(bins_correct.index, bins_correct.values)\n",
    "plt.title(\"Percent answered_correctly for grouped by timestamp\")\n",
    "plt.xticks(rotation = 0)\n",
    "plt.show()"
   ]
  },
  {
   "cell_type": "markdown",
   "metadata": {
    "papermill": {
     "duration": 0.041655,
     "end_time": "2021-01-11T12:30:50.070691",
     "exception": false,
     "start_time": "2021-01-11T12:30:50.029036",
     "status": "completed"
    },
    "tags": []
   },
   "source": [
    "**task_container_id**: (int16) Id code for the batch of questions or lectures. For example, a user might see three questions in a row before seeing the explanations for any of them. Those three would all share a task_container_id. Monotonically increasing for each user.\n",
    "\n",
    "Now let us see how tough questions are when grouped by the batch number i.e **task_container_id**"
   ]
  },
  {
   "cell_type": "code",
   "execution_count": 17,
   "metadata": {
    "execution": {
     "iopub.execute_input": "2021-01-11T12:30:50.163538Z",
     "iopub.status.busy": "2021-01-11T12:30:50.161847Z",
     "iopub.status.idle": "2021-01-11T12:31:07.281677Z",
     "shell.execute_reply": "2021-01-11T12:31:07.281058Z"
    },
    "papermill": {
     "duration": 17.169094,
     "end_time": "2021-01-11T12:31:07.281813",
     "exception": false,
     "start_time": "2021-01-11T12:30:50.112719",
     "status": "completed"
    },
    "tags": []
   },
   "outputs": [
    {
     "data": {
      "image/png": "[encoded data removed]",
      "text/plain": [
       "<Figure size 1152x720 with 1 Axes>"
      ]
     },
     "metadata": {
      "needs_background": "light"
     },
     "output_type": "display_data"
    }
   ],
   "source": [
    "# percent correct grouped by task_id\n",
    "task_id_correct = correct('task_container_id')\n",
    "fig = plt.figure(figsize = (16,10))\n",
    "task_id_correct.plot.hist(bins = 20)\n",
    "plt.show()"
   ]
  },
  {
   "cell_type": "markdown",
   "metadata": {
    "papermill": {
     "duration": 0.044179,
     "end_time": "2021-01-11T12:31:07.370808",
     "exception": false,
     "start_time": "2021-01-11T12:31:07.326629",
     "status": "completed"
    },
    "tags": []
   },
   "source": [
    "Now we group the target based on **prior_question_had_explanation** which tells if the student saw the correct answer and explanation of the previous question. If the question is the student's first question, the value is Nan"
   ]
  },
  {
   "cell_type": "code",
   "execution_count": 18,
   "metadata": {
    "execution": {
     "iopub.execute_input": "2021-01-11T12:31:07.467866Z",
     "iopub.status.busy": "2021-01-11T12:31:07.467106Z",
     "iopub.status.idle": "2021-01-11T12:31:32.569875Z",
     "shell.execute_reply": "2021-01-11T12:31:32.570477Z"
    },
    "papermill": {
     "duration": 25.155477,
     "end_time": "2021-01-11T12:31:32.570651",
     "exception": false,
     "start_time": "2021-01-11T12:31:07.415174",
     "status": "completed"
    },
    "tags": []
   },
   "outputs": [
    {
     "data": {
      "image/png": "[encoded data removed]",
      "text/plain": [
       "<Figure size 720x360 with 1 Axes>"
      ]
     },
     "metadata": {
      "needs_background": "light"
     },
     "output_type": "display_data"
    }
   ],
   "source": [
    "# how much previous explanation helps to answer correctly\n",
    "x = df[df.answered_correctly != -1].groupby(['prior_question_had_explanation'], dropna = False).agg({'answered_correctly': ['mean', 'count']})\n",
    "fig = plt.figure(figsize = (10,5))\n",
    "x.iloc[:,0].plot.barh()\n",
    "plt.title('Prior question had explanation Vs Answered correctly')\n",
    "plt.show()"
   ]
  },
  {
   "cell_type": "markdown",
   "metadata": {
    "papermill": {
     "duration": 0.043546,
     "end_time": "2021-01-11T12:31:32.659609",
     "exception": false,
     "start_time": "2021-01-11T12:31:32.616063",
     "status": "completed"
    },
    "tags": []
   },
   "source": [
    "**prior_question_elapsed_time**: (float32) The average time in milliseconds it took a user to answer each question in the previous question bundle, ignoring any lectures in between. Is null for a user's first question bundle or lecture. Note that the time is the average time a user took to solve each question in the previous bundle.\n",
    "\n",
    "It does not seem to give any important information as there is not much of a difference between the mean for correctly and incorrectly answered questions"
   ]
  },
  {
   "cell_type": "code",
   "execution_count": 19,
   "metadata": {
    "execution": {
     "iopub.execute_input": "2021-01-11T12:31:32.751663Z",
     "iopub.status.busy": "2021-01-11T12:31:32.750886Z",
     "iopub.status.idle": "2021-01-11T12:31:58.288689Z",
     "shell.execute_reply": "2021-01-11T12:31:58.287859Z"
    },
    "papermill": {
     "duration": 25.58508,
     "end_time": "2021-01-11T12:31:58.288840",
     "exception": false,
     "start_time": "2021-01-11T12:31:32.703760",
     "status": "completed"
    },
    "tags": []
   },
   "outputs": [
    {
     "data": {
      "text/html": [
       "<div>\n",
       "<style scoped>\n",
       "    .dataframe tbody tr th:only-of-type {\n",
       "        vertical-align: middle;\n",
       "    }\n",
       "\n",
       "    .dataframe tbody tr th {\n",
       "        vertical-align: top;\n",
       "    }\n",
       "\n",
       "    .dataframe thead tr th {\n",
       "        text-align: left;\n",
       "    }\n",
       "\n",
       "    .dataframe thead tr:last-of-type th {\n",
       "        text-align: right;\n",
       "    }\n",
       "</style>\n",
       "<table border=\"1\" class=\"dataframe\">\n",
       "  <thead>\n",
       "    <tr>\n",
       "      <th></th>\n",
       "      <th>prior_question_elapsed_time</th>\n",
       "      <th>answered_correctly</th>\n",
       "    </tr>\n",
       "    <tr>\n",
       "      <th></th>\n",
       "      <th>mean</th>\n",
       "      <th>count</th>\n",
       "    </tr>\n",
       "    <tr>\n",
       "      <th>answered_correctly</th>\n",
       "      <th></th>\n",
       "      <th></th>\n",
       "    </tr>\n",
       "  </thead>\n",
       "  <tbody>\n",
       "    <tr>\n",
       "      <th>0</th>\n",
       "      <td>25641.992188</td>\n",
       "      <td>34026673</td>\n",
       "    </tr>\n",
       "    <tr>\n",
       "      <th>1</th>\n",
       "      <td>25309.976562</td>\n",
       "      <td>65244627</td>\n",
       "    </tr>\n",
       "  </tbody>\n",
       "</table>\n",
       "</div>"
      ],
      "text/plain": [
       "                   prior_question_elapsed_time answered_correctly\n",
       "                                          mean              count\n",
       "answered_correctly                                               \n",
       "0                                 25641.992188           34026673\n",
       "1                                 25309.976562           65244627"
      ]
     },
     "execution_count": 19,
     "metadata": {},
     "output_type": "execute_result"
    }
   ],
   "source": [
    "# mean prior_question_elapsed_time Vs correctly answered \n",
    "x = df[df.answered_correctly != -1].groupby('answered_correctly').agg({'prior_question_elapsed_time' : ['mean'],'answered_correctly' : ['count']})\n",
    "x"
   ]
  },
  {
   "cell_type": "code",
   "execution_count": 20,
   "metadata": {
    "execution": {
     "iopub.execute_input": "2021-01-11T12:31:58.394463Z",
     "iopub.status.busy": "2021-01-11T12:31:58.393016Z",
     "iopub.status.idle": "2021-01-11T12:32:08.551417Z",
     "shell.execute_reply": "2021-01-11T12:32:08.551949Z"
    },
    "papermill": {
     "duration": 10.216545,
     "end_time": "2021-01-11T12:32:08.552140",
     "exception": false,
     "start_time": "2021-01-11T12:31:58.335595",
     "status": "completed"
    },
    "tags": []
   },
   "outputs": [
    {
     "name": "stdout",
     "output_type": "stream",
     "text": [
      "The maximum number of questions answered by any student is 17609\n"
     ]
    }
   ],
   "source": [
    "# max no. of questions answered by 1 student\n",
    "x = df[df.answered_correctly != -1].groupby('user_id')\n",
    "print(f'The maximum number of questions answered by any student is {x.size().max()}')"
   ]
  },
  {
   "cell_type": "markdown",
   "metadata": {
    "papermill": {
     "duration": 0.045589,
     "end_time": "2021-01-11T12:32:08.643293",
     "exception": false,
     "start_time": "2021-01-11T12:32:08.597704",
     "status": "completed"
    },
    "tags": []
   },
   "source": [
    "# Exploring Questions"
   ]
  },
  {
   "cell_type": "markdown",
   "metadata": {
    "papermill": {
     "duration": 0.045867,
     "end_time": "2021-01-11T12:32:08.734145",
     "exception": false,
     "start_time": "2021-01-11T12:32:08.688278",
     "status": "completed"
    },
    "tags": []
   },
   "source": [
    "**Metadata for the questions posed to users**\n",
    "\n",
    "**question_id**: foreign key for the train/test content_id column, when the content type is question (0).\n",
    "\n",
    "**bundle_id**: code for which questions are served together.\n",
    "correct_answer: the answer to the question. Can be compared with the train user_answer column to check if the user was right.\n",
    "\n",
    "**part**: the relevant section of the TOEIC test.\n",
    "\n",
    "**tags**: one or more detailed tag codes for the question. The meaning of the tags will not be provided, but these codes are sufficient for clustering the questions together."
   ]
  },
  {
   "cell_type": "code",
   "execution_count": 21,
   "metadata": {
    "execution": {
     "iopub.execute_input": "2021-01-11T12:32:08.837388Z",
     "iopub.status.busy": "2021-01-11T12:32:08.836452Z",
     "iopub.status.idle": "2021-01-11T12:32:08.841552Z",
     "shell.execute_reply": "2021-01-11T12:32:08.842054Z"
    },
    "papermill": {
     "duration": 0.062944,
     "end_time": "2021-01-11T12:32:08.842212",
     "exception": false,
     "start_time": "2021-01-11T12:32:08.779268",
     "status": "completed"
    },
    "tags": []
   },
   "outputs": [
    {
     "data": {
      "text/html": [
       "<div>\n",
       "<style scoped>\n",
       "    .dataframe tbody tr th:only-of-type {\n",
       "        vertical-align: middle;\n",
       "    }\n",
       "\n",
       "    .dataframe tbody tr th {\n",
       "        vertical-align: top;\n",
       "    }\n",
       "\n",
       "    .dataframe thead th {\n",
       "        text-align: right;\n",
       "    }\n",
       "</style>\n",
       "<table border=\"1\" class=\"dataframe\">\n",
       "  <thead>\n",
       "    <tr style=\"text-align: right;\">\n",
       "      <th></th>\n",
       "      <th>question_id</th>\n",
       "      <th>bundle_id</th>\n",
       "      <th>correct_answer</th>\n",
       "      <th>part</th>\n",
       "      <th>tags</th>\n",
       "    </tr>\n",
       "  </thead>\n",
       "  <tbody>\n",
       "    <tr>\n",
       "      <th>0</th>\n",
       "      <td>0</td>\n",
       "      <td>0</td>\n",
       "      <td>0</td>\n",
       "      <td>1</td>\n",
       "      <td>51 131 162 38</td>\n",
       "    </tr>\n",
       "    <tr>\n",
       "      <th>1</th>\n",
       "      <td>1</td>\n",
       "      <td>1</td>\n",
       "      <td>1</td>\n",
       "      <td>1</td>\n",
       "      <td>131 36 81</td>\n",
       "    </tr>\n",
       "    <tr>\n",
       "      <th>2</th>\n",
       "      <td>2</td>\n",
       "      <td>2</td>\n",
       "      <td>0</td>\n",
       "      <td>1</td>\n",
       "      <td>131 101 162 92</td>\n",
       "    </tr>\n",
       "    <tr>\n",
       "      <th>3</th>\n",
       "      <td>3</td>\n",
       "      <td>3</td>\n",
       "      <td>0</td>\n",
       "      <td>1</td>\n",
       "      <td>131 149 162 29</td>\n",
       "    </tr>\n",
       "    <tr>\n",
       "      <th>4</th>\n",
       "      <td>4</td>\n",
       "      <td>4</td>\n",
       "      <td>3</td>\n",
       "      <td>1</td>\n",
       "      <td>131 5 162 38</td>\n",
       "    </tr>\n",
       "  </tbody>\n",
       "</table>\n",
       "</div>"
      ],
      "text/plain": [
       "   question_id  bundle_id  correct_answer  part            tags\n",
       "0            0          0               0     1   51 131 162 38\n",
       "1            1          1               1     1       131 36 81\n",
       "2            2          2               0     1  131 101 162 92\n",
       "3            3          3               0     1  131 149 162 29\n",
       "4            4          4               3     1    131 5 162 38"
      ]
     },
     "execution_count": 21,
     "metadata": {},
     "output_type": "execute_result"
    }
   ],
   "source": [
    "questions.head()"
   ]
  },
  {
   "cell_type": "markdown",
   "metadata": {
    "papermill": {
     "duration": 0.045118,
     "end_time": "2021-01-11T12:32:08.933289",
     "exception": false,
     "start_time": "2021-01-11T12:32:08.888171",
     "status": "completed"
    },
    "tags": []
   },
   "source": [
    "As described above, tags give important information about questions. Let us check for any questions without any tags"
   ]
  },
  {
   "cell_type": "code",
   "execution_count": 22,
   "metadata": {
    "execution": {
     "iopub.execute_input": "2021-01-11T12:32:09.041139Z",
     "iopub.status.busy": "2021-01-11T12:32:09.040013Z",
     "iopub.status.idle": "2021-01-11T12:32:09.045401Z",
     "shell.execute_reply": "2021-01-11T12:32:09.044700Z"
    },
    "papermill": {
     "duration": 0.065765,
     "end_time": "2021-01-11T12:32:09.045530",
     "exception": false,
     "start_time": "2021-01-11T12:32:08.979765",
     "status": "completed"
    },
    "tags": []
   },
   "outputs": [
    {
     "data": {
      "text/html": [
       "<div>\n",
       "<style scoped>\n",
       "    .dataframe tbody tr th:only-of-type {\n",
       "        vertical-align: middle;\n",
       "    }\n",
       "\n",
       "    .dataframe tbody tr th {\n",
       "        vertical-align: top;\n",
       "    }\n",
       "\n",
       "    .dataframe thead th {\n",
       "        text-align: right;\n",
       "    }\n",
       "</style>\n",
       "<table border=\"1\" class=\"dataframe\">\n",
       "  <thead>\n",
       "    <tr style=\"text-align: right;\">\n",
       "      <th></th>\n",
       "      <th>question_id</th>\n",
       "      <th>bundle_id</th>\n",
       "      <th>correct_answer</th>\n",
       "      <th>part</th>\n",
       "      <th>tags</th>\n",
       "    </tr>\n",
       "  </thead>\n",
       "  <tbody>\n",
       "    <tr>\n",
       "      <th>10033</th>\n",
       "      <td>10033</td>\n",
       "      <td>10033</td>\n",
       "      <td>2</td>\n",
       "      <td>6</td>\n",
       "      <td>NaN</td>\n",
       "    </tr>\n",
       "  </tbody>\n",
       "</table>\n",
       "</div>"
      ],
      "text/plain": [
       "       question_id  bundle_id  correct_answer  part tags\n",
       "10033        10033      10033               2     6  NaN"
      ]
     },
     "execution_count": 22,
     "metadata": {},
     "output_type": "execute_result"
    }
   ],
   "source": [
    "questions[questions.tags.isna()]"
   ]
  },
  {
   "cell_type": "code",
   "execution_count": 23,
   "metadata": {
    "execution": {
     "iopub.execute_input": "2021-01-11T12:32:09.182559Z",
     "iopub.status.busy": "2021-01-11T12:32:09.172171Z",
     "iopub.status.idle": "2021-01-11T12:32:09.186777Z",
     "shell.execute_reply": "2021-01-11T12:32:09.187355Z"
    },
    "papermill": {
     "duration": 0.092656,
     "end_time": "2021-01-11T12:32:09.187510",
     "exception": false,
     "start_time": "2021-01-11T12:32:09.094854",
     "status": "completed"
    },
    "tags": []
   },
   "outputs": [
    {
     "name": "stdout",
     "output_type": "stream",
     "text": [
      "There are a total of 188 unique tags describing questions\n"
     ]
    }
   ],
   "source": [
    "# no. of tags\n",
    "tags = []\n",
    "questions.tags = questions.tags.astype(str)\n",
    "for x in questions.tags.values:\n",
    "    if x == \"nan\": continue\n",
    "    tags.extend(x.split())\n",
    "    \n",
    "tags = list(set(tags))\n",
    "print(f'There are a total of {len(tags)} unique tags describing questions')"
   ]
  },
  {
   "cell_type": "markdown",
   "metadata": {
    "papermill": {
     "duration": 0.054571,
     "end_time": "2021-01-11T12:32:09.288950",
     "exception": false,
     "start_time": "2021-01-11T12:32:09.234379",
     "status": "completed"
    },
    "tags": []
   },
   "source": [
    "Now we will see how many times each question was answered correctly and incorrectly"
   ]
  },
  {
   "cell_type": "code",
   "execution_count": 24,
   "metadata": {
    "execution": {
     "iopub.execute_input": "2021-01-11T12:32:09.396122Z",
     "iopub.status.busy": "2021-01-11T12:32:09.394542Z",
     "iopub.status.idle": "2021-01-11T12:32:24.644520Z",
     "shell.execute_reply": "2021-01-11T12:32:24.643973Z"
    },
    "papermill": {
     "duration": 15.308188,
     "end_time": "2021-01-11T12:32:24.644644",
     "exception": false,
     "start_time": "2021-01-11T12:32:09.336456",
     "status": "completed"
    },
    "tags": []
   },
   "outputs": [
    {
     "data": {
      "text/html": [
       "<div>\n",
       "<style scoped>\n",
       "    .dataframe tbody tr th:only-of-type {\n",
       "        vertical-align: middle;\n",
       "    }\n",
       "\n",
       "    .dataframe tbody tr th {\n",
       "        vertical-align: top;\n",
       "    }\n",
       "\n",
       "    .dataframe thead th {\n",
       "        text-align: right;\n",
       "    }\n",
       "</style>\n",
       "<table border=\"1\" class=\"dataframe\">\n",
       "  <thead>\n",
       "    <tr style=\"text-align: right;\">\n",
       "      <th></th>\n",
       "      <th>question_id</th>\n",
       "      <th>bundle_id</th>\n",
       "      <th>correct_answer</th>\n",
       "      <th>part</th>\n",
       "      <th>tags</th>\n",
       "      <th>Wrong</th>\n",
       "      <th>Right</th>\n",
       "    </tr>\n",
       "  </thead>\n",
       "  <tbody>\n",
       "    <tr>\n",
       "      <th>0</th>\n",
       "      <td>0</td>\n",
       "      <td>0</td>\n",
       "      <td>0</td>\n",
       "      <td>1</td>\n",
       "      <td>[51, 131, 162, 38]</td>\n",
       "      <td>637</td>\n",
       "      <td>6266</td>\n",
       "    </tr>\n",
       "    <tr>\n",
       "      <th>1</th>\n",
       "      <td>1</td>\n",
       "      <td>1</td>\n",
       "      <td>1</td>\n",
       "      <td>1</td>\n",
       "      <td>[131, 36, 81]</td>\n",
       "      <td>809</td>\n",
       "      <td>6589</td>\n",
       "    </tr>\n",
       "    <tr>\n",
       "      <th>2</th>\n",
       "      <td>2</td>\n",
       "      <td>2</td>\n",
       "      <td>0</td>\n",
       "      <td>1</td>\n",
       "      <td>[131, 101, 162, 92]</td>\n",
       "      <td>20015</td>\n",
       "      <td>24890</td>\n",
       "    </tr>\n",
       "    <tr>\n",
       "      <th>3</th>\n",
       "      <td>3</td>\n",
       "      <td>3</td>\n",
       "      <td>0</td>\n",
       "      <td>1</td>\n",
       "      <td>[131, 149, 162, 29]</td>\n",
       "      <td>5067</td>\n",
       "      <td>17906</td>\n",
       "    </tr>\n",
       "    <tr>\n",
       "      <th>4</th>\n",
       "      <td>4</td>\n",
       "      <td>4</td>\n",
       "      <td>3</td>\n",
       "      <td>1</td>\n",
       "      <td>[131, 5, 162, 38]</td>\n",
       "      <td>12275</td>\n",
       "      <td>19461</td>\n",
       "    </tr>\n",
       "  </tbody>\n",
       "</table>\n",
       "</div>"
      ],
      "text/plain": [
       "   question_id  bundle_id  correct_answer  part                 tags  Wrong  \\\n",
       "0            0          0               0     1   [51, 131, 162, 38]    637   \n",
       "1            1          1               1     1        [131, 36, 81]    809   \n",
       "2            2          2               0     1  [131, 101, 162, 92]  20015   \n",
       "3            3          3               0     1  [131, 149, 162, 29]   5067   \n",
       "4            4          4               3     1    [131, 5, 162, 38]  12275   \n",
       "\n",
       "   Right  \n",
       "0   6266  \n",
       "1   6589  \n",
       "2  24890  \n",
       "3  17906  \n",
       "4  19461  "
      ]
     },
     "execution_count": 24,
     "metadata": {},
     "output_type": "execute_result"
    }
   ],
   "source": [
    "x = df[df.answered_correctly != -1].groupby(['content_id','answered_correctly'],as_index = False).size()\n",
    "x = x.pivot(index = 'content_id', columns = 'answered_correctly', values = 'size')\n",
    "x.columns = ['Wrong', 'Right']\n",
    "x = x.fillna(0).astype(int)\n",
    "questions[['Wrong', 'Right']] = x\n",
    "tags_list = [x.split() for x in questions.tags.values]\n",
    "questions.tags = tags_list\n",
    "questions.head()"
   ]
  },
  {
   "cell_type": "markdown",
   "metadata": {
    "papermill": {
     "duration": 0.046633,
     "end_time": "2021-01-11T12:32:24.738772",
     "exception": false,
     "start_time": "2021-01-11T12:32:24.692139",
     "status": "completed"
    },
    "tags": []
   },
   "source": [
    "Now let us see how accurately all questions related to a tag are answered"
   ]
  },
  {
   "cell_type": "code",
   "execution_count": 25,
   "metadata": {
    "execution": {
     "iopub.execute_input": "2021-01-11T12:32:24.856504Z",
     "iopub.status.busy": "2021-01-11T12:32:24.855720Z",
     "iopub.status.idle": "2021-01-11T12:32:27.214177Z",
     "shell.execute_reply": "2021-01-11T12:32:27.213584Z"
    },
    "papermill": {
     "duration": 2.427722,
     "end_time": "2021-01-11T12:32:27.214331",
     "exception": false,
     "start_time": "2021-01-11T12:32:24.786609",
     "status": "completed"
    },
    "tags": []
   },
   "outputs": [
    {
     "data": {
      "text/html": [
       "<div>\n",
       "<style scoped>\n",
       "    .dataframe tbody tr th:only-of-type {\n",
       "        vertical-align: middle;\n",
       "    }\n",
       "\n",
       "    .dataframe tbody tr th {\n",
       "        vertical-align: top;\n",
       "    }\n",
       "\n",
       "    .dataframe thead th {\n",
       "        text-align: right;\n",
       "    }\n",
       "</style>\n",
       "<table border=\"1\" class=\"dataframe\">\n",
       "  <thead>\n",
       "    <tr style=\"text-align: right;\">\n",
       "      <th></th>\n",
       "      <th>Wrong</th>\n",
       "      <th>Right</th>\n",
       "      <th>Total_questions</th>\n",
       "      <th>Question_ids_with_tag</th>\n",
       "      <th>Percent_correct</th>\n",
       "    </tr>\n",
       "    <tr>\n",
       "      <th>tag</th>\n",
       "      <th></th>\n",
       "      <th></th>\n",
       "      <th></th>\n",
       "      <th></th>\n",
       "      <th></th>\n",
       "    </tr>\n",
       "  </thead>\n",
       "  <tbody>\n",
       "    <tr>\n",
       "      <th>24</th>\n",
       "      <td>157631</td>\n",
       "      <td>98982</td>\n",
       "      <td>256613</td>\n",
       "      <td>17</td>\n",
       "      <td>0.385725</td>\n",
       "    </tr>\n",
       "    <tr>\n",
       "      <th>23</th>\n",
       "      <td>261611</td>\n",
       "      <td>204293</td>\n",
       "      <td>465904</td>\n",
       "      <td>11</td>\n",
       "      <td>0.438487</td>\n",
       "    </tr>\n",
       "    <tr>\n",
       "      <th>19</th>\n",
       "      <td>173602</td>\n",
       "      <td>136367</td>\n",
       "      <td>309969</td>\n",
       "      <td>57</td>\n",
       "      <td>0.439938</td>\n",
       "    </tr>\n",
       "    <tr>\n",
       "      <th>151</th>\n",
       "      <td>272267</td>\n",
       "      <td>264913</td>\n",
       "      <td>537180</td>\n",
       "      <td>16</td>\n",
       "      <td>0.493155</td>\n",
       "    </tr>\n",
       "    <tr>\n",
       "      <th>167</th>\n",
       "      <td>170386</td>\n",
       "      <td>170681</td>\n",
       "      <td>341067</td>\n",
       "      <td>11</td>\n",
       "      <td>0.500432</td>\n",
       "    </tr>\n",
       "  </tbody>\n",
       "</table>\n",
       "</div>"
      ],
      "text/plain": [
       "      Wrong   Right  Total_questions  Question_ids_with_tag  Percent_correct\n",
       "tag                                                                         \n",
       "24   157631   98982           256613                     17         0.385725\n",
       "23   261611  204293           465904                     11         0.438487\n",
       "19   173602  136367           309969                     57         0.439938\n",
       "151  272267  264913           537180                     16         0.493155\n",
       "167  170386  170681           341067                     11         0.500432"
      ]
     },
     "execution_count": 25,
     "metadata": {},
     "output_type": "execute_result"
    }
   ],
   "source": [
    "tags_df = pd.DataFrame()\n",
    "for x in range(len(tags)):\n",
    "    df2 = questions[questions.tags.apply(lambda l: tags[x] in l)]\n",
    "    df1 = df2.agg({'Wrong': ['sum'], 'Right': ['sum']})\n",
    "    df1['Total_questions'] = df1.Wrong + df1.Right\n",
    "    df1['Question_ids_with_tag'] = len(df2)\n",
    "    df1['tag'] = tags[x]\n",
    "    df1 = df1.set_index('tag')\n",
    "    tags_df = tags_df.append(df1)\n",
    "\n",
    "tags_df[['Wrong', 'Right', 'Total_questions']] = tags_df[['Wrong', 'Right', 'Total_questions']].astype(int)\n",
    "tags_df['Percent_correct'] = tags_df.Right/tags_df.Total_questions\n",
    "tags_df = tags_df.sort_values(by = \"Percent_correct\")\n",
    "\n",
    "tags_df.head()"
   ]
  },
  {
   "cell_type": "markdown",
   "metadata": {
    "papermill": {
     "duration": 0.048951,
     "end_time": "2021-01-11T12:32:27.312239",
     "exception": false,
     "start_time": "2021-01-11T12:32:27.263288",
     "status": "completed"
    },
    "tags": []
   },
   "source": [
    "Let us now visualize the difference between accuracies of the easiest and toughest tags"
   ]
  },
  {
   "cell_type": "code",
   "execution_count": 26,
   "metadata": {
    "execution": {
     "iopub.execute_input": "2021-01-11T12:32:27.432048Z",
     "iopub.status.busy": "2021-01-11T12:32:27.425750Z",
     "iopub.status.idle": "2021-01-11T12:32:27.699366Z",
     "shell.execute_reply": "2021-01-11T12:32:27.698107Z"
    },
    "papermill": {
     "duration": 0.339167,
     "end_time": "2021-01-11T12:32:27.699522",
     "exception": false,
     "start_time": "2021-01-11T12:32:27.360355",
     "status": "completed"
    },
    "tags": []
   },
   "outputs": [
    {
     "data": {
      "image/png": "[encoded data removed]",
      "text/plain": [
       "<Figure size 1152x720 with 1 Axes>"
      ]
     },
     "metadata": {
      "needs_background": "light"
     },
     "output_type": "display_data"
    }
   ],
   "source": [
    "# top 10 hardest Vs easiest tags\n",
    "fig = plt.figure(figsize = (16,10))\n",
    "select_rows = list(range(0,10)) + list(range(178, len(tags_df)))\n",
    "tags_select = tags_df.iloc[select_rows,4]\n",
    "tags_select.plot.bar()\n",
    "plt.ylabel('Percent correct')\n",
    "plt.title('10 Hardest tags Vs 10 Easiest tags')\n",
    "plt.show()"
   ]
  },
  {
   "cell_type": "code",
   "execution_count": 27,
   "metadata": {
    "execution": {
     "iopub.execute_input": "2021-01-11T12:32:27.810173Z",
     "iopub.status.busy": "2021-01-11T12:32:27.806661Z",
     "iopub.status.idle": "2021-01-11T12:32:28.138069Z",
     "shell.execute_reply": "2021-01-11T12:32:28.137414Z"
    },
    "papermill": {
     "duration": 0.389738,
     "end_time": "2021-01-11T12:32:28.138198",
     "exception": false,
     "start_time": "2021-01-11T12:32:27.748460",
     "status": "completed"
    },
    "tags": []
   },
   "outputs": [
    {
     "data": {
      "image/png": "[encoded data removed]",
      "text/plain": [
       "<Figure size 864x576 with 1 Axes>"
      ]
     },
     "metadata": {
      "needs_background": "light"
     },
     "output_type": "display_data"
    }
   ],
   "source": [
    "# no. of questions answered for each tag\n",
    "tags_select = tags_df.sort_values(by = \"Total_questions\", ascending = False).Total_questions[:30]\n",
    "fig = plt.figure(figsize = (12,8))\n",
    "tags_select.plot.bar()\n",
    "plt.title('Number of questions answered for each tag')\n",
    "plt.show()"
   ]
  },
  {
   "cell_type": "markdown",
   "metadata": {
    "papermill": {
     "duration": 0.049476,
     "end_time": "2021-01-11T12:32:28.237553",
     "exception": false,
     "start_time": "2021-01-11T12:32:28.188077",
     "status": "completed"
    },
    "tags": []
   },
   "source": [
    "Let us now analyse the **parts** feature of the questions. In the TOEIC test : \n",
    "\n",
    "The listening section consists of Part 1-4 (Listening Section (approx. 45 minutes, 100 questions)).\n",
    "\n",
    "The reading section consists of Part 5-7 (Reading Section (75 minutes, 100 questions)).\n",
    "\n",
    "We will see the frequency of each part and how accurately questions of a part are answered"
   ]
  },
  {
   "cell_type": "code",
   "execution_count": 28,
   "metadata": {
    "execution": {
     "iopub.execute_input": "2021-01-11T12:32:28.349179Z",
     "iopub.status.busy": "2021-01-11T12:32:28.348046Z",
     "iopub.status.idle": "2021-01-11T12:32:28.544024Z",
     "shell.execute_reply": "2021-01-11T12:32:28.543431Z"
    },
    "papermill": {
     "duration": 0.255677,
     "end_time": "2021-01-11T12:32:28.544155",
     "exception": false,
     "start_time": "2021-01-11T12:32:28.288478",
     "status": "completed"
    },
    "tags": []
   },
   "outputs": [
    {
     "data": {
      "image/png": "[encoded data removed]",
      "text/plain": [
       "<Figure size 864x576 with 1 Axes>"
      ]
     },
     "metadata": {
      "needs_background": "light"
     },
     "output_type": "display_data"
    }
   ],
   "source": [
    "part_counts = questions.groupby('part').size()\n",
    "parts = questions.groupby('part').agg({'Wrong': ['sum'], 'Right': ['sum']})\n",
    "parts['percent'] = parts.Right/(parts.Right + parts.Wrong)\n",
    "# total no. of questions of each part\n",
    "fig = plt.figure(figsize = (12,8))\n",
    "plt.title('Number of questions belonging to each part')\n",
    "ax = part_counts.plot.bar()\n",
    "plt.xticks(rotation=0)\n",
    "plt.show()"
   ]
  },
  {
   "cell_type": "code",
   "execution_count": 29,
   "metadata": {
    "execution": {
     "iopub.execute_input": "2021-01-11T12:32:28.678272Z",
     "iopub.status.busy": "2021-01-11T12:32:28.677441Z",
     "iopub.status.idle": "2021-01-11T12:32:28.863095Z",
     "shell.execute_reply": "2021-01-11T12:32:28.862426Z"
    },
    "papermill": {
     "duration": 0.262013,
     "end_time": "2021-01-11T12:32:28.863259",
     "exception": false,
     "start_time": "2021-01-11T12:32:28.601246",
     "status": "completed"
    },
    "tags": []
   },
   "outputs": [
    {
     "data": {
      "image/png": "[encoded data removed]",
      "text/plain": [
       "<Figure size 864x576 with 1 Axes>"
      ]
     },
     "metadata": {
      "needs_background": "light"
     },
     "output_type": "display_data"
    }
   ],
   "source": [
    "# percentage correct of each part\n",
    "fig = plt.figure(figsize = (12,8))\n",
    "ax = parts.percent.plot.bar()\n",
    "plt.title('Accuracy of each part')\n",
    "plt.xticks(rotation=0)\n",
    "plt.show()"
   ]
  },
  {
   "cell_type": "markdown",
   "metadata": {
    "papermill": {
     "duration": 0.052329,
     "end_time": "2021-01-11T12:32:28.968007",
     "exception": false,
     "start_time": "2021-01-11T12:32:28.915678",
     "status": "completed"
    },
    "tags": []
   },
   "source": [
    "# Exploring Lectures"
   ]
  },
  {
   "cell_type": "markdown",
   "metadata": {
    "papermill": {
     "duration": 0.05115,
     "end_time": "2021-01-11T12:32:29.071747",
     "exception": false,
     "start_time": "2021-01-11T12:32:29.020597",
     "status": "completed"
    },
    "tags": []
   },
   "source": [
    "**Metadata for the lectures watched by users as they progress in their education.**\n",
    "\n",
    "**lecture_id**: foreign key for the train/test content_id column, when the content type is lecture (1).\n",
    "\n",
    "**part**: top level category code for the lecture.\n",
    "\n",
    "**tag**: one tag codes for the lecture. The meaning of the tags will not be provided, but these codes are sufficient for clustering the lectures together.\n",
    "\n",
    "**type_of**: brief description of the core purpose of the lecture"
   ]
  },
  {
   "cell_type": "code",
   "execution_count": 30,
   "metadata": {
    "execution": {
     "iopub.execute_input": "2021-01-11T12:32:29.186393Z",
     "iopub.status.busy": "2021-01-11T12:32:29.185634Z",
     "iopub.status.idle": "2021-01-11T12:32:29.190259Z",
     "shell.execute_reply": "2021-01-11T12:32:29.189728Z"
    },
    "papermill": {
     "duration": 0.067314,
     "end_time": "2021-01-11T12:32:29.190381",
     "exception": false,
     "start_time": "2021-01-11T12:32:29.123067",
     "status": "completed"
    },
    "tags": []
   },
   "outputs": [
    {
     "data": {
      "text/html": [
       "<div>\n",
       "<style scoped>\n",
       "    .dataframe tbody tr th:only-of-type {\n",
       "        vertical-align: middle;\n",
       "    }\n",
       "\n",
       "    .dataframe tbody tr th {\n",
       "        vertical-align: top;\n",
       "    }\n",
       "\n",
       "    .dataframe thead th {\n",
       "        text-align: right;\n",
       "    }\n",
       "</style>\n",
       "<table border=\"1\" class=\"dataframe\">\n",
       "  <thead>\n",
       "    <tr style=\"text-align: right;\">\n",
       "      <th></th>\n",
       "      <th>lecture_id</th>\n",
       "      <th>tag</th>\n",
       "      <th>part</th>\n",
       "      <th>type_of</th>\n",
       "    </tr>\n",
       "  </thead>\n",
       "  <tbody>\n",
       "    <tr>\n",
       "      <th>0</th>\n",
       "      <td>89</td>\n",
       "      <td>159</td>\n",
       "      <td>5</td>\n",
       "      <td>concept</td>\n",
       "    </tr>\n",
       "    <tr>\n",
       "      <th>1</th>\n",
       "      <td>100</td>\n",
       "      <td>70</td>\n",
       "      <td>1</td>\n",
       "      <td>concept</td>\n",
       "    </tr>\n",
       "    <tr>\n",
       "      <th>2</th>\n",
       "      <td>185</td>\n",
       "      <td>45</td>\n",
       "      <td>6</td>\n",
       "      <td>concept</td>\n",
       "    </tr>\n",
       "    <tr>\n",
       "      <th>3</th>\n",
       "      <td>192</td>\n",
       "      <td>79</td>\n",
       "      <td>5</td>\n",
       "      <td>solving question</td>\n",
       "    </tr>\n",
       "    <tr>\n",
       "      <th>4</th>\n",
       "      <td>317</td>\n",
       "      <td>156</td>\n",
       "      <td>5</td>\n",
       "      <td>solving question</td>\n",
       "    </tr>\n",
       "  </tbody>\n",
       "</table>\n",
       "</div>"
      ],
      "text/plain": [
       "   lecture_id  tag  part           type_of\n",
       "0          89  159     5           concept\n",
       "1         100   70     1           concept\n",
       "2         185   45     6           concept\n",
       "3         192   79     5  solving question\n",
       "4         317  156     5  solving question"
      ]
     },
     "execution_count": 30,
     "metadata": {},
     "output_type": "execute_result"
    }
   ],
   "source": [
    "# no. of lectures\n",
    "lectures.head()"
   ]
  },
  {
   "cell_type": "markdown",
   "metadata": {
    "papermill": {
     "duration": 0.051706,
     "end_time": "2021-01-11T12:32:29.293811",
     "exception": false,
     "start_time": "2021-01-11T12:32:29.242105",
     "status": "completed"
    },
    "tags": []
   },
   "source": [
    "Let us see the frequency of each **type_of** lecture"
   ]
  },
  {
   "cell_type": "code",
   "execution_count": 31,
   "metadata": {
    "execution": {
     "iopub.execute_input": "2021-01-11T12:32:29.412999Z",
     "iopub.status.busy": "2021-01-11T12:32:29.411783Z",
     "iopub.status.idle": "2021-01-11T12:32:29.731137Z",
     "shell.execute_reply": "2021-01-11T12:32:29.731820Z"
    },
    "papermill": {
     "duration": 0.380948,
     "end_time": "2021-01-11T12:32:29.732083",
     "exception": false,
     "start_time": "2021-01-11T12:32:29.351135",
     "status": "completed"
    },
    "tags": []
   },
   "outputs": [
    {
     "data": {
      "image/png": "[encoded data removed]",
      "text/plain": [
       "<Figure size 720x360 with 1 Axes>"
      ]
     },
     "metadata": {
      "needs_background": "light"
     },
     "output_type": "display_data"
    }
   ],
   "source": [
    "# no. of lecture types per type_of\n",
    "x = lectures.type_of.value_counts()\n",
    "fig = plt.figure(figsize = (10,5))\n",
    "x.plot.bar()\n",
    "plt.xticks(rotation = 0)\n",
    "plt.show()"
   ]
  }
 ],
 "metadata": {
  "kernelspec": {
   "display_name": "Python 3",
   "language": "python",
   "name": "python3"
  },
  "language_info": {
   "codemirror_mode": {
    "name": "ipython",
    "version": 3
   },
   "file_extension": ".py",
   "mimetype": "text/x-python",
   "name": "python",
   "nbconvert_exporter": "python",
   "pygments_lexer": "ipython3",
   "version": "3.7.6"
  },
  "papermill": {
   "duration": 234.34735,
   "end_time": "2021-01-11T12:32:31.000333",
   "environment_variables": {},
   "exception": null,
   "input_path": "__notebook__.ipynb",
   "output_path": "__notebook__.ipynb",
   "parameters": {},
   "start_time": "2021-01-11T12:28:36.652983",
   "version": "2.1.0"
  }
 },
 "nbformat": 4,
 "nbformat_minor": 4
}
