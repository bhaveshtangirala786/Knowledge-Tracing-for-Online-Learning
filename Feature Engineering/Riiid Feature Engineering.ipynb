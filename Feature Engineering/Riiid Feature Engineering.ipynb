{
 "cells": [
  {
   "cell_type": "markdown",
   "metadata": {},
   "source": [
    "## Importing required modules"
   ]
  },
  {
   "cell_type": "code",
   "execution_count": 1,
   "metadata": {
    "execution": {
     "iopub.execute_input": "2021-01-06T09:46:44.275564Z",
     "iopub.status.busy": "2021-01-06T09:46:44.274882Z",
     "iopub.status.idle": "2021-01-06T09:46:45.410685Z",
     "shell.execute_reply": "2021-01-06T09:46:45.409908Z"
    },
    "lines_to_next_cell": 2,
    "papermill": {
     "duration": 1.158039,
     "end_time": "2021-01-06T09:46:45.410814",
     "exception": false,
     "start_time": "2021-01-06T09:46:44.252775",
     "status": "completed"
    },
    "tags": []
   },
   "outputs": [],
   "source": [
    "import pandas as pd\n",
    "import numpy as np\n",
    "import pickle\n",
    "import gc\n",
    "from sklearn.metrics import roc_auc_score\n",
    "from sklearn.preprocessing import LabelEncoder\n",
    "from collections import defaultdict\n",
    "from tqdm.notebook import tqdm\n",
    "import lightgbm as lgb\n",
    "import dill"
   ]
  },
  {
   "cell_type": "markdown",
   "metadata": {},
   "source": [
    "## Reading dataset\n",
    "Train and validation files were used from [here](https://www.kaggle.com/its7171/riiid-cross-validation-files). **community** feature was used from this great [kernel](https://www.kaggle.com/spacelx/2020-r3id-clustering-question-tags) in which questions were clustered into communities using informaion provided by tags"
   ]
  },
  {
   "cell_type": "code",
   "execution_count": 2,
   "metadata": {
    "execution": {
     "iopub.execute_input": "2021-01-06T09:46:45.457637Z",
     "iopub.status.busy": "2021-01-06T09:46:45.456950Z",
     "iopub.status.idle": "2021-01-06T09:46:45.487869Z",
     "shell.execute_reply": "2021-01-06T09:46:45.487255Z"
    },
    "papermill": {
     "duration": 0.058747,
     "end_time": "2021-01-06T09:46:45.487998",
     "exception": false,
     "start_time": "2021-01-06T09:46:45.429251",
     "status": "completed"
    },
    "tags": []
   },
   "outputs": [],
   "source": [
    "train_pickle = '../input/riiid-cross-validation-files/cv1_train.pickle'\n",
    "valid_pickle = '../input/riiid-cross-validation-files/cv1_valid.pickle'\n",
    "question_file = '../input/riiid-test-answer-prediction/questions.csv'\n",
    "lecture_file = '../input/riiid-test-answer-prediction/lectures.csv'\n",
    "community = pd.read_csv('../input/2020-r3id-clustering-question-tags/question_cmnts.csv')"
   ]
  },
  {
   "cell_type": "code",
   "execution_count": 3,
   "metadata": {
    "execution": {
     "iopub.execute_input": "2021-01-06T09:46:45.533045Z",
     "iopub.status.busy": "2021-01-06T09:46:45.532172Z",
     "iopub.status.idle": "2021-01-06T09:46:45.576078Z",
     "shell.execute_reply": "2021-01-06T09:46:45.575485Z"
    },
    "papermill": {
     "duration": 0.069961,
     "end_time": "2021-01-06T09:46:45.576196",
     "exception": false,
     "start_time": "2021-01-06T09:46:45.506235",
     "status": "completed"
    },
    "tags": []
   },
   "outputs": [
    {
     "data": {
      "text/html": [
       "<div>\n",
       "<style scoped>\n",
       "    .dataframe tbody tr th:only-of-type {\n",
       "        vertical-align: middle;\n",
       "    }\n",
       "\n",
       "    .dataframe tbody tr th {\n",
       "        vertical-align: top;\n",
       "    }\n",
       "\n",
       "    .dataframe thead th {\n",
       "        text-align: right;\n",
       "    }\n",
       "</style>\n",
       "<table border=\"1\" class=\"dataframe\">\n",
       "  <thead>\n",
       "    <tr style=\"text-align: right;\">\n",
       "      <th></th>\n",
       "      <th>question_id</th>\n",
       "      <th>bundle_id</th>\n",
       "      <th>correct_answer</th>\n",
       "      <th>part</th>\n",
       "      <th>tags</th>\n",
       "      <th>community</th>\n",
       "    </tr>\n",
       "  </thead>\n",
       "  <tbody>\n",
       "    <tr>\n",
       "      <th>0</th>\n",
       "      <td>0</td>\n",
       "      <td>0</td>\n",
       "      <td>0</td>\n",
       "      <td>1</td>\n",
       "      <td>51 131 162 38</td>\n",
       "      <td>2</td>\n",
       "    </tr>\n",
       "    <tr>\n",
       "      <th>1</th>\n",
       "      <td>1</td>\n",
       "      <td>1</td>\n",
       "      <td>1</td>\n",
       "      <td>1</td>\n",
       "      <td>131 36 81</td>\n",
       "      <td>2</td>\n",
       "    </tr>\n",
       "    <tr>\n",
       "      <th>2</th>\n",
       "      <td>2</td>\n",
       "      <td>2</td>\n",
       "      <td>0</td>\n",
       "      <td>1</td>\n",
       "      <td>131 101 162 92</td>\n",
       "      <td>2</td>\n",
       "    </tr>\n",
       "    <tr>\n",
       "      <th>3</th>\n",
       "      <td>3</td>\n",
       "      <td>3</td>\n",
       "      <td>0</td>\n",
       "      <td>1</td>\n",
       "      <td>131 149 162 29</td>\n",
       "      <td>2</td>\n",
       "    </tr>\n",
       "    <tr>\n",
       "      <th>4</th>\n",
       "      <td>4</td>\n",
       "      <td>4</td>\n",
       "      <td>3</td>\n",
       "      <td>1</td>\n",
       "      <td>131 5 162 38</td>\n",
       "      <td>2</td>\n",
       "    </tr>\n",
       "  </tbody>\n",
       "</table>\n",
       "</div>"
      ],
      "text/plain": [
       "   question_id  bundle_id  correct_answer  part            tags  community\n",
       "0            0          0               0     1   51 131 162 38          2\n",
       "1            1          1               1     1       131 36 81          2\n",
       "2            2          2               0     1  131 101 162 92          2\n",
       "3            3          3               0     1  131 149 162 29          2\n",
       "4            4          4               3     1    131 5 162 38          2"
      ]
     },
     "execution_count": 3,
     "metadata": {},
     "output_type": "execute_result"
    }
   ],
   "source": [
    "questions = pd.read_csv(question_file)\n",
    "questions = pd.concat([questions, community.community], axis = 1)\n",
    "questions.head()"
   ]
  },
  {
   "cell_type": "markdown",
   "metadata": {},
   "source": [
    "Let us see the maximum number of tags associated with a single question"
   ]
  },
  {
   "cell_type": "code",
   "execution_count": 4,
   "metadata": {
    "execution": {
     "iopub.execute_input": "2021-01-06T09:46:45.636946Z",
     "iopub.status.busy": "2021-01-06T09:46:45.631030Z",
     "iopub.status.idle": "2021-01-06T09:46:45.641819Z",
     "shell.execute_reply": "2021-01-06T09:46:45.641124Z"
    },
    "papermill": {
     "duration": 0.046974,
     "end_time": "2021-01-06T09:46:45.641940",
     "exception": false,
     "start_time": "2021-01-06T09:46:45.594966",
     "status": "completed"
    },
    "tags": []
   },
   "outputs": [
    {
     "data": {
      "text/plain": [
       "6"
      ]
     },
     "execution_count": 4,
     "metadata": {},
     "output_type": "execute_result"
    }
   ],
   "source": [
    "# maximum no. of tags for a question\n",
    "y = 0\n",
    "for x in questions.tags.values:\n",
    "    if str(x) == 'nan': continue\n",
    "    z = len(x.split())\n",
    "    y = max(y,z)\n",
    "y"
   ]
  },
  {
   "cell_type": "code",
   "execution_count": 5,
   "metadata": {
    "execution": {
     "iopub.execute_input": "2021-01-06T09:46:45.687283Z",
     "iopub.status.busy": "2021-01-06T09:46:45.686353Z",
     "iopub.status.idle": "2021-01-06T09:46:45.692008Z",
     "shell.execute_reply": "2021-01-06T09:46:45.691466Z"
    },
    "papermill": {
     "duration": 0.030418,
     "end_time": "2021-01-06T09:46:45.692129",
     "exception": false,
     "start_time": "2021-01-06T09:46:45.661711",
     "status": "completed"
    },
    "tags": []
   },
   "outputs": [
    {
     "data": {
      "text/plain": [
       "array([0, 1, 3, 2])"
      ]
     },
     "execution_count": 5,
     "metadata": {},
     "output_type": "execute_result"
    }
   ],
   "source": [
    "questions.correct_answer.unique()"
   ]
  },
  {
   "cell_type": "code",
   "execution_count": 6,
   "metadata": {
    "execution": {
     "iopub.execute_input": "2021-01-06T09:46:45.739146Z",
     "iopub.status.busy": "2021-01-06T09:46:45.738442Z",
     "iopub.status.idle": "2021-01-06T09:46:45.772193Z",
     "shell.execute_reply": "2021-01-06T09:46:45.771636Z"
    },
    "papermill": {
     "duration": 0.060326,
     "end_time": "2021-01-06T09:46:45.772315",
     "exception": false,
     "start_time": "2021-01-06T09:46:45.711989",
     "status": "completed"
    },
    "tags": []
   },
   "outputs": [
    {
     "data": {
      "text/html": [
       "<div>\n",
       "<style scoped>\n",
       "    .dataframe tbody tr th:only-of-type {\n",
       "        vertical-align: middle;\n",
       "    }\n",
       "\n",
       "    .dataframe tbody tr th {\n",
       "        vertical-align: top;\n",
       "    }\n",
       "\n",
       "    .dataframe thead th {\n",
       "        text-align: right;\n",
       "    }\n",
       "</style>\n",
       "<table border=\"1\" class=\"dataframe\">\n",
       "  <thead>\n",
       "    <tr style=\"text-align: right;\">\n",
       "      <th></th>\n",
       "      <th>lecture_id</th>\n",
       "      <th>tag</th>\n",
       "      <th>part</th>\n",
       "      <th>type_of</th>\n",
       "    </tr>\n",
       "  </thead>\n",
       "  <tbody>\n",
       "    <tr>\n",
       "      <th>0</th>\n",
       "      <td>89</td>\n",
       "      <td>159</td>\n",
       "      <td>5</td>\n",
       "      <td>concept</td>\n",
       "    </tr>\n",
       "    <tr>\n",
       "      <th>1</th>\n",
       "      <td>100</td>\n",
       "      <td>70</td>\n",
       "      <td>1</td>\n",
       "      <td>concept</td>\n",
       "    </tr>\n",
       "    <tr>\n",
       "      <th>2</th>\n",
       "      <td>185</td>\n",
       "      <td>45</td>\n",
       "      <td>6</td>\n",
       "      <td>concept</td>\n",
       "    </tr>\n",
       "    <tr>\n",
       "      <th>3</th>\n",
       "      <td>192</td>\n",
       "      <td>79</td>\n",
       "      <td>5</td>\n",
       "      <td>solving question</td>\n",
       "    </tr>\n",
       "    <tr>\n",
       "      <th>4</th>\n",
       "      <td>317</td>\n",
       "      <td>156</td>\n",
       "      <td>5</td>\n",
       "      <td>solving question</td>\n",
       "    </tr>\n",
       "  </tbody>\n",
       "</table>\n",
       "</div>"
      ],
      "text/plain": [
       "   lecture_id  tag  part           type_of\n",
       "0          89  159     5           concept\n",
       "1         100   70     1           concept\n",
       "2         185   45     6           concept\n",
       "3         192   79     5  solving question\n",
       "4         317  156     5  solving question"
      ]
     },
     "execution_count": 6,
     "metadata": {},
     "output_type": "execute_result"
    }
   ],
   "source": [
    "lectures = pd.read_csv(lecture_file)\n",
    "lectures.head()"
   ]
  },
  {
   "cell_type": "code",
   "execution_count": 7,
   "metadata": {
    "execution": {
     "iopub.execute_input": "2021-01-06T09:46:45.820656Z",
     "iopub.status.busy": "2021-01-06T09:46:45.818727Z",
     "iopub.status.idle": "2021-01-06T09:46:45.823420Z",
     "shell.execute_reply": "2021-01-06T09:46:45.823973Z"
    },
    "papermill": {
     "duration": 0.031246,
     "end_time": "2021-01-06T09:46:45.824117",
     "exception": false,
     "start_time": "2021-01-06T09:46:45.792871",
     "status": "completed"
    },
    "tags": []
   },
   "outputs": [],
   "source": [
    "questions.set_index('question_id', inplace = True)\n",
    "lectures.set_index('lecture_id', inplace = True)"
   ]
  },
  {
   "cell_type": "code",
   "execution_count": 8,
   "metadata": {
    "execution": {
     "iopub.execute_input": "2021-01-06T09:46:45.872490Z",
     "iopub.status.busy": "2021-01-06T09:46:45.871423Z",
     "iopub.status.idle": "2021-01-06T09:46:45.952723Z",
     "shell.execute_reply": "2021-01-06T09:46:45.952053Z"
    },
    "papermill": {
     "duration": 0.108471,
     "end_time": "2021-01-06T09:46:45.952842",
     "exception": false,
     "start_time": "2021-01-06T09:46:45.844371",
     "status": "completed"
    },
    "tags": []
   },
   "outputs": [
    {
     "data": {
      "text/plain": [
       "0"
      ]
     },
     "execution_count": 8,
     "metadata": {},
     "output_type": "execute_result"
    }
   ],
   "source": [
    "questions.drop(['bundle_id', 'tags'], axis = 1, inplace = True)\n",
    "gc.collect()"
   ]
  },
  {
   "cell_type": "code",
   "execution_count": 9,
   "metadata": {
    "execution": {
     "iopub.execute_input": "2021-01-06T09:46:46.000460Z",
     "iopub.status.busy": "2021-01-06T09:46:45.999456Z",
     "iopub.status.idle": "2021-01-06T09:46:46.002405Z",
     "shell.execute_reply": "2021-01-06T09:46:46.001766Z"
    },
    "papermill": {
     "duration": 0.028887,
     "end_time": "2021-01-06T09:46:46.002536",
     "exception": false,
     "start_time": "2021-01-06T09:46:45.973649",
     "status": "completed"
    },
    "tags": []
   },
   "outputs": [],
   "source": [
    "questions = questions.astype('int8')"
   ]
  },
  {
   "cell_type": "markdown",
   "metadata": {},
   "source": [
    "As we can see, the **type_of** lecture carries some important information. So I encoded them into numerical form for further use"
   ]
  },
  {
   "cell_type": "code",
   "execution_count": 10,
   "metadata": {
    "execution": {
     "iopub.execute_input": "2021-01-06T09:46:46.051346Z",
     "iopub.status.busy": "2021-01-06T09:46:46.050063Z",
     "iopub.status.idle": "2021-01-06T09:46:46.056938Z",
     "shell.execute_reply": "2021-01-06T09:46:46.057402Z"
    },
    "papermill": {
     "duration": 0.033931,
     "end_time": "2021-01-06T09:46:46.057581",
     "exception": false,
     "start_time": "2021-01-06T09:46:46.023650",
     "status": "completed"
    },
    "tags": []
   },
   "outputs": [
    {
     "data": {
      "text/plain": [
       "LabelEncoder()"
      ]
     },
     "execution_count": 10,
     "metadata": {},
     "output_type": "execute_result"
    }
   ],
   "source": [
    "enc = LabelEncoder()\n",
    "enc.fit(lectures.type_of)"
   ]
  },
  {
   "cell_type": "code",
   "execution_count": 11,
   "metadata": {
    "execution": {
     "iopub.execute_input": "2021-01-06T09:46:46.112624Z",
     "iopub.status.busy": "2021-01-06T09:46:46.111575Z",
     "iopub.status.idle": "2021-01-06T09:46:46.116428Z",
     "shell.execute_reply": "2021-01-06T09:46:46.115879Z"
    },
    "papermill": {
     "duration": 0.037607,
     "end_time": "2021-01-06T09:46:46.116556",
     "exception": false,
     "start_time": "2021-01-06T09:46:46.078949",
     "status": "completed"
    },
    "tags": []
   },
   "outputs": [
    {
     "data": {
      "text/html": [
       "<div>\n",
       "<style scoped>\n",
       "    .dataframe tbody tr th:only-of-type {\n",
       "        vertical-align: middle;\n",
       "    }\n",
       "\n",
       "    .dataframe tbody tr th {\n",
       "        vertical-align: top;\n",
       "    }\n",
       "\n",
       "    .dataframe thead th {\n",
       "        text-align: right;\n",
       "    }\n",
       "</style>\n",
       "<table border=\"1\" class=\"dataframe\">\n",
       "  <thead>\n",
       "    <tr style=\"text-align: right;\">\n",
       "      <th></th>\n",
       "      <th>tag</th>\n",
       "      <th>part</th>\n",
       "      <th>type_of</th>\n",
       "      <th>type</th>\n",
       "    </tr>\n",
       "    <tr>\n",
       "      <th>lecture_id</th>\n",
       "      <th></th>\n",
       "      <th></th>\n",
       "      <th></th>\n",
       "      <th></th>\n",
       "    </tr>\n",
       "  </thead>\n",
       "  <tbody>\n",
       "    <tr>\n",
       "      <th>89</th>\n",
       "      <td>159</td>\n",
       "      <td>5</td>\n",
       "      <td>concept</td>\n",
       "      <td>0</td>\n",
       "    </tr>\n",
       "    <tr>\n",
       "      <th>100</th>\n",
       "      <td>70</td>\n",
       "      <td>1</td>\n",
       "      <td>concept</td>\n",
       "      <td>0</td>\n",
       "    </tr>\n",
       "    <tr>\n",
       "      <th>185</th>\n",
       "      <td>45</td>\n",
       "      <td>6</td>\n",
       "      <td>concept</td>\n",
       "      <td>0</td>\n",
       "    </tr>\n",
       "    <tr>\n",
       "      <th>192</th>\n",
       "      <td>79</td>\n",
       "      <td>5</td>\n",
       "      <td>solving question</td>\n",
       "      <td>2</td>\n",
       "    </tr>\n",
       "    <tr>\n",
       "      <th>317</th>\n",
       "      <td>156</td>\n",
       "      <td>5</td>\n",
       "      <td>solving question</td>\n",
       "      <td>2</td>\n",
       "    </tr>\n",
       "  </tbody>\n",
       "</table>\n",
       "</div>"
      ],
      "text/plain": [
       "            tag  part           type_of  type\n",
       "lecture_id                                   \n",
       "89          159     5           concept     0\n",
       "100          70     1           concept     0\n",
       "185          45     6           concept     0\n",
       "192          79     5  solving question     2\n",
       "317         156     5  solving question     2"
      ]
     },
     "execution_count": 11,
     "metadata": {},
     "output_type": "execute_result"
    }
   ],
   "source": [
    "lectures['type'] = enc.transform(lectures.type_of)\n",
    "lectures.head()"
   ]
  },
  {
   "cell_type": "code",
   "execution_count": 12,
   "metadata": {
    "execution": {
     "iopub.execute_input": "2021-01-06T09:46:46.168268Z",
     "iopub.status.busy": "2021-01-06T09:46:46.167190Z",
     "iopub.status.idle": "2021-01-06T09:46:46.170415Z",
     "shell.execute_reply": "2021-01-06T09:46:46.169771Z"
    },
    "papermill": {
     "duration": 0.03204,
     "end_time": "2021-01-06T09:46:46.170549",
     "exception": false,
     "start_time": "2021-01-06T09:46:46.138509",
     "status": "completed"
    },
    "tags": []
   },
   "outputs": [],
   "source": [
    "lectures.drop(['tag','type_of'], axis = 1, inplace = True)\n",
    "lectures = lectures.astype('int8')"
   ]
  },
  {
   "cell_type": "markdown",
   "metadata": {
    "papermill": {
     "duration": 0.022006,
     "end_time": "2021-01-06T09:46:46.214394",
     "exception": false,
     "start_time": "2021-01-06T09:46:46.192388",
     "status": "completed"
    },
    "tags": []
   },
   "source": [
    "## Feature engineering"
   ]
  },
  {
   "cell_type": "markdown",
   "metadata": {},
   "source": [
    "The **add_features** function takes a Pandas DataFrame as input and computes features based **only on past information**. If update is set True, it updates the **dynamic feature accumulation dictionaries**."
   ]
  },
  {
   "cell_type": "code",
   "execution_count": 13,
   "metadata": {
    "execution": {
     "iopub.execute_input": "2021-01-06T09:46:46.263166Z",
     "iopub.status.busy": "2021-01-06T09:46:46.262023Z",
     "iopub.status.idle": "2021-01-06T09:46:46.310196Z",
     "shell.execute_reply": "2021-01-06T09:46:46.310712Z"
    },
    "papermill": {
     "duration": 0.074249,
     "end_time": "2021-01-06T09:46:46.310881",
     "exception": false,
     "start_time": "2021-01-06T09:46:46.236632",
     "status": "completed"
    },
    "tags": []
   },
   "outputs": [],
   "source": [
    "def add_features(df, update = True):\n",
    "\n",
    "    # Student features\n",
    "    answered_correctly_u_avg = np.zeros(len(df), dtype = np.float32)\n",
    "    explanation_u_avg = np.zeros(len(df), dtype = np.float32)\n",
    "    timestamp_u_recency_1 = np.zeros(len(df), dtype = np.float32)\n",
    "    timestamp_u_recency_2 = np.zeros(len(df), dtype = np.float32)\n",
    "    timestamp_u_recency_3 = np.zeros(len(df), dtype = np.float32)\n",
    "    timestamp_u_incorrect_recency = np.zeros(len(df), dtype = np.float32)\n",
    "    answer_freq_u = [np.zeros(len(df), dtype = np.int16) for i in range(4)]\n",
    "\n",
    "    # Question features\n",
    "    answered_correctly_q_avg = np.zeros(len(df), dtype = np.float32)\n",
    "    explanation_q_avg = np.zeros(len(df), dtype = np.float32)\n",
    "    elapsed_time_q_avg = np.zeros(len(df), dtype = np.float32)\n",
    "    comm = np.zeros(len(df), dtype = np.int8)\n",
    "\n",
    "    # Lecture features\n",
    "    num_lect = np.zeros(len(df), dtype = np.int16)\n",
    "    part = np.zeros(len(df), dtype = np.int8)\n",
    "    \n",
    "    # User Question features\n",
    "    answered_correctly_uq_count = np.zeros(len(df), dtype = np.int32)\n",
    "   \n",
    "    for num, row in enumerate(tqdm(df[['user_id', 'answered_correctly', 'content_id', 'user_answer', 'prior_question_had_explanation', 'timestamp', 'content_type_id', 'prior_question_elapsed_time']].values)):\n",
    "        \n",
    "        # Student features assignation\n",
    "        num_lect[num] = lecture_count[row[0]]\n",
    "       \n",
    "        # Assigning values to average accuracy of the student, and % explanations seen by the student till now\n",
    "        if answered_correctly_u_count[row[0]] != 0:\n",
    "            answered_correctly_u_avg[num] = answered_correctly_u_sum[row[0]] / answered_correctly_u_count[row[0]]\n",
    "            explanation_u_avg[num] = explanation_u_sum[row[0]] / answered_correctly_u_count[row[0]]\n",
    "        else:\n",
    "            answered_correctly_u_avg[num] = np.nan\n",
    "            explanation_u_avg[num] = np.nan\n",
    "\n",
    "        # Assigning values to time recencies which are time elapsed since last interaction    \n",
    "        if len(timestamp_u[row[0]]) == 0:\n",
    "            timestamp_u_recency_1[num] = np.nan\n",
    "            timestamp_u_recency_2[num] = np.nan\n",
    "            timestamp_u_recency_3[num] = np.nan\n",
    "        elif len(timestamp_u[row[0]]) == 1:\n",
    "            timestamp_u_recency_1[num] = row[5] - timestamp_u[row[0]][0]\n",
    "            timestamp_u_recency_2[num] = np.nan\n",
    "            timestamp_u_recency_3[num] = np.nan\n",
    "        elif len(timestamp_u[row[0]]) == 2:\n",
    "            timestamp_u_recency_1[num] = row[5] - timestamp_u[row[0]][1]\n",
    "            timestamp_u_recency_2[num] = row[5] - timestamp_u[row[0]][0]\n",
    "            timestamp_u_recency_3[num] = np.nan\n",
    "        elif len(timestamp_u[row[0]]) == 3:\n",
    "            timestamp_u_recency_1[num] = row[5] - timestamp_u[row[0]][2]\n",
    "            timestamp_u_recency_2[num] = row[5] - timestamp_u[row[0]][1]\n",
    "            timestamp_u_recency_3[num] = row[5] - timestamp_u[row[0]][0]\n",
    "\n",
    "        # Assigning value to incorrect recency which is the time elapsed since last wrong answer given by the student\n",
    "        if len(timestamp_u_incorrect[row[0]]) == 0:\n",
    "            timestamp_u_incorrect_recency[num] = np.nan\n",
    "        else:\n",
    "            timestamp_u_incorrect_recency[num] = row[5] - timestamp_u_incorrect[row[0]][0]\n",
    "        \n",
    "        # Assigning values to frequencies of ecah answer given by the student\n",
    "        for i in range(4):\n",
    "            answer_freq_u[i][num] = answer_u_count[row[0]][i]\n",
    "\n",
    "        # Question features assignation\n",
    "        # Assigning values to average accuracy, % explanations seen, and average time elapsed for the question till now\n",
    "        if answered_correctly_q_count[row[2]] != 0:\n",
    "            answered_correctly_q_avg[num] = answered_correctly_q_sum[row[2]] / answered_correctly_q_count[row[2]]\n",
    "            elapsed_time_q_avg[num] = elapsed_time_q_sum[row[2]] / answered_correctly_q_count[row[2]]\n",
    "            explanation_q_avg[num] = explanation_q_sum[row[2]] / answered_correctly_q_count[row[2]]\n",
    "        else:\n",
    "            answered_correctly_q_avg[num] = np.nan\n",
    "            elapsed_time_q_avg[num] = np.nan\n",
    "            explanation_q_avg[num] = np.nan\n",
    "    \n",
    "        # Assigning the number of times this student answered this question till now\n",
    "        answered_correctly_uq_count[num] = answered_correctly_uq[row[0]][row[2]]\n",
    "        \n",
    "        # If the user interaction is a question\n",
    "        if row[6] == 0:\n",
    "            # Assigning part and community of the question\n",
    "            comm[num] = questions.community[row[2]]\n",
    "            part[num] = questions.part[row[2]]\n",
    "            # Flag for training and inference\n",
    "            if update:\n",
    "                # Student features updates\n",
    "                answered_correctly_u_count[row[0]] += 1\n",
    "                explanation_u_sum[row[0]] += int(row[4])\n",
    "                if len(timestamp_u[row[0]]) == 3:\n",
    "                    timestamp_u[row[0]].pop(0)\n",
    "                    timestamp_u[row[0]].append(row[5])\n",
    "                else:\n",
    "                    timestamp_u[row[0]].append(row[5])\n",
    "                answered_correctly_u_sum[row[0]] += row[1]\n",
    "                if row[1] == 0:\n",
    "                    if len(timestamp_u_incorrect[row[0]]) == 1:\n",
    "                        timestamp_u_incorrect[row[0]].pop(0)\n",
    "                        timestamp_u_incorrect[row[0]].append(row[5])\n",
    "                    else:\n",
    "                        timestamp_u_incorrect[row[0]].append(row[5])\n",
    "                answer_u_count[row[0]][row[3]] += 1\n",
    "\n",
    "                # Question features updates\n",
    "                answered_correctly_q_sum[row[2]] += row[1]\n",
    "                elapsed_time_q_sum[row[2]] += row[7]\n",
    "                answered_correctly_q_count[row[2]] += 1\n",
    "                explanation_q_sum[row[2]] += int(row[4])\n",
    "\n",
    "                answered_correctly_uq[row[0]][row[2]] += 1\n",
    "        else:\n",
    "        # If the user interaction is a lecture     \n",
    "            if update:\n",
    "                lecture_count[row[0]] += 1\n",
    "        \n",
    "    user_df = pd.DataFrame({'answered_correctly_u_avg': answered_correctly_u_avg, 'explanation_u_avg': explanation_u_avg, 'part' : part, 'community' : comm,\n",
    "                            'answered_correctly_q_avg': answered_correctly_q_avg, 'explanation_q_avg': explanation_q_avg, 'elapsed_time_q_avg' : elapsed_time_q_avg, \n",
    "                            'timestamp_u_recency_1': timestamp_u_recency_1, 'timestamp_u_recency_2': timestamp_u_recency_2,\n",
    "                            'timestamp_u_recency_3': timestamp_u_recency_3, 'timestamp_u_incorrect_recency': timestamp_u_incorrect_recency,\n",
    "                            'num_lectures' : num_lect, 'num_0' : answer_freq_u[0], 'num_1' : answer_freq_u[1],\n",
    "                            'num_2' : answer_freq_u[2], 'num_3' : answer_freq_u[3], 'answered_correctly_uq_count': answered_correctly_uq_count,})\n",
    "    \n",
    "    # Merging calculated features with the DataFrame\n",
    "    df = pd.concat([df, user_df], axis = 1)\n",
    "    return df"
   ]
  },
  {
   "cell_type": "code",
   "execution_count": 14,
   "metadata": {
    "execution": {
     "iopub.execute_input": "2021-01-06T09:46:46.359144Z",
     "iopub.status.busy": "2021-01-06T09:46:46.358121Z",
     "iopub.status.idle": "2021-01-06T09:46:46.373680Z",
     "shell.execute_reply": "2021-01-06T09:46:46.374160Z"
    },
    "papermill": {
     "duration": 0.041368,
     "end_time": "2021-01-06T09:46:46.374310",
     "exception": false,
     "start_time": "2021-01-06T09:46:46.332942",
     "status": "completed"
    },
    "tags": []
   },
   "outputs": [],
   "source": [
    "def update_features(df):\n",
    "    for row in df[['user_id', 'answered_correctly', 'content_id', 'content_type_id', 'timestamp', 'user_answer', 'prior_question_had_explanation', 'prior_question_elapsed_time']].values:\n",
    "        if row[3] == 0:\n",
    "            # ------------------------------------------------------------------\n",
    "            # Client features updates\n",
    "            answered_correctly_u_count[row[0]] += 1\n",
    "            answered_correctly_u_sum[row[0]] += row[1]\n",
    "            explanation_u_sum[row[0]] += int(row[6])\n",
    "            if row[1] == 0:\n",
    "                if len(timestamp_u[row[0]]) == 3:\n",
    "                    timestamp_u[row[0]].pop(0)\n",
    "                    timestamp_u[row[0]].append(row[4])\n",
    "                else:\n",
    "                    timestamp_u[row[0]].append(row[4])\n",
    "                if len(timestamp_u_incorrect[row[0]]) == 1:\n",
    "                    timestamp_u_incorrect[row[0]].pop(0)\n",
    "                    timestamp_u_incorrect[row[0]].append(row[4])\n",
    "                else:\n",
    "                    timestamp_u_incorrect[row[0]].append(row[4])\n",
    "            answer_u_count[row[0]][row[5]] += 1\n",
    "            # ------------------------------------------------------------------\n",
    "            # Question features updates\n",
    "            answered_correctly_q_sum[row[2]] += row[1]\n",
    "            answered_correctly_q_count[row[2]] += 1\n",
    "            elapsed_time_q_sum[row[2]] += row[7]\n",
    "            explanation_q_sum[row[2]] += int(row[6])\n",
    "            # ------------------------------------------------------------------\n",
    "            answered_correctly_uq[row[0]][row[2]] += 1\n",
    "        else:\n",
    "            lecture_count[row[0]] += 1\n",
    "    return\n"
   ]
  },
  {
   "cell_type": "code",
   "execution_count": 15,
   "metadata": {
    "execution": {
     "iopub.execute_input": "2021-01-06T09:46:46.423612Z",
     "iopub.status.busy": "2021-01-06T09:46:46.422554Z",
     "iopub.status.idle": "2021-01-06T09:47:51.017000Z",
     "shell.execute_reply": "2021-01-06T09:47:51.017553Z"
    },
    "papermill": {
     "duration": 64.621023,
     "end_time": "2021-01-06T09:47:51.017730",
     "exception": false,
     "start_time": "2021-01-06T09:46:46.396707",
     "status": "completed"
    },
    "tags": []
   },
   "outputs": [
    {
     "data": {
      "text/plain": [
       "13"
      ]
     },
     "execution_count": 15,
     "metadata": {},
     "output_type": "execute_result"
    }
   ],
   "source": [
    "# read data\n",
    "feld_needed = ['user_id', 'content_id', 'content_type_id', 'answered_correctly', 'prior_question_elapsed_time', 'prior_question_had_explanation', 'user_answer','timestamp']\n",
    "train = pd.read_pickle(train_pickle)[feld_needed].iloc[:int(98730332/3)]\n",
    "# changing dtype to avoid lightgbm error\n",
    "prior_question_elapsed_time_mean = 25439.41\n",
    "train['prior_question_had_explanation'] = train.prior_question_had_explanation.fillna(False).astype('int8')\n",
    "train['prior_question_elapsed_time'].fillna(prior_question_elapsed_time_mean, inplace = True)\n",
    "train.reset_index(drop = True, inplace = True)\n",
    "gc.collect()"
   ]
  },
  {
   "cell_type": "code",
   "execution_count": 16,
   "metadata": {
    "execution": {
     "iopub.execute_input": "2021-01-06T09:47:51.070648Z",
     "iopub.status.busy": "2021-01-06T09:47:51.069986Z",
     "iopub.status.idle": "2021-01-06T09:47:51.072502Z",
     "shell.execute_reply": "2021-01-06T09:47:51.073039Z"
    },
    "papermill": {
     "duration": 0.032357,
     "end_time": "2021-01-06T09:47:51.073176",
     "exception": false,
     "start_time": "2021-01-06T09:47:51.040819",
     "status": "completed"
    },
    "tags": []
   },
   "outputs": [],
   "source": [
    "def dd():\n",
    "    return defaultdict(int)"
   ]
  },
  {
   "cell_type": "markdown",
   "metadata": {},
   "source": [
    "### Dynamic Feature accumulation \n",
    "**answered_correctly_u_count** : Number of questions answered by each student \n",
    "\n",
    "**answered_correctly_u_sum** : Number of questions answered correctly by each student \n",
    "\n",
    "**explanation_u_sum** : Number of explanations seen by each student \n",
    "\n",
    "**timestamp_u** : Timestamps of last 3 user interactions of each student\n",
    "\n",
    "**timestamp_u_incorrect** : Timestamp of last incorrectly answered question of each student\n",
    "\n",
    "**lecture_count** : Number of lectures attended by each student \n",
    "\n",
    "**answer_u_count** : Frequency of each answer given by each student\n",
    "\n",
    "**answered_correctly_q_count** : Number of times each question is answered \n",
    "\n",
    "**answered_correctly_q_sum** : Number of times each question is answered correctly\n",
    "\n",
    "**elapsed_time_q_sum** : Total time taken to answer all occurences of each question\n",
    "\n",
    "**explanation_q_sum** : Number of times an explanation is seen after answering each question\n",
    "\n",
    "**answered_correctly_uq** : Number of times each question is answered by each student "
   ]
  },
  {
   "cell_type": "code",
   "execution_count": 17,
   "metadata": {
    "execution": {
     "iopub.execute_input": "2021-01-06T09:47:51.127358Z",
     "iopub.status.busy": "2021-01-06T09:47:51.126675Z",
     "iopub.status.idle": "2021-01-06T09:47:51.128979Z",
     "shell.execute_reply": "2021-01-06T09:47:51.129482Z"
    },
    "papermill": {
     "duration": 0.033518,
     "end_time": "2021-01-06T09:47:51.129684",
     "exception": false,
     "start_time": "2021-01-06T09:47:51.096166",
     "status": "completed"
    },
    "tags": []
   },
   "outputs": [],
   "source": [
    "# Student dictionaries\n",
    "answered_correctly_u_count = defaultdict(int)\n",
    "answered_correctly_u_sum = defaultdict(int)\n",
    "explanation_u_sum = defaultdict(int)\n",
    "timestamp_u = defaultdict(list)\n",
    "timestamp_u_incorrect = defaultdict(list)\n",
    "lecture_count = defaultdict(int)\n",
    "answer_u_count = defaultdict(dd)\n",
    "\n",
    "# Question dictionaries\n",
    "answered_correctly_q_count = defaultdict(int)\n",
    "answered_correctly_q_sum = defaultdict(int)\n",
    "elapsed_time_q_sum = defaultdict(int)\n",
    "explanation_q_sum = defaultdict(int)\n",
    "\n",
    "answered_correctly_uq = defaultdict(dd)"
   ]
  },
  {
   "cell_type": "code",
   "execution_count": 18,
   "metadata": {
    "execution": {
     "iopub.execute_input": "2021-01-06T09:47:51.181915Z",
     "iopub.status.busy": "2021-01-06T09:47:51.181145Z",
     "iopub.status.idle": "2021-01-06T10:34:12.328506Z",
     "shell.execute_reply": "2021-01-06T10:34:12.327849Z"
    },
    "papermill": {
     "duration": 2781.175484,
     "end_time": "2021-01-06T10:34:12.328680",
     "exception": false,
     "start_time": "2021-01-06T09:47:51.153196",
     "status": "completed"
    },
    "tags": []
   },
   "outputs": [
    {
     "data": {
      "application/vnd.jupyter.widget-view+json": {
       "model_id": "7538f12987b042e2b4c09b9ea13618a8",
       "version_major": 2,
       "version_minor": 0
      },
      "text/plain": [
       "HBox(children=(FloatProgress(value=0.0, max=32910110.0), HTML(value='')))"
      ]
     },
     "metadata": {},
     "output_type": "display_data"
    },
    {
     "name": "stdout",
     "output_type": "stream",
     "text": [
      "\n"
     ]
    },
    {
     "data": {
      "text/plain": [
       "3"
      ]
     },
     "execution_count": 18,
     "metadata": {},
     "output_type": "execute_result"
    }
   ],
   "source": [
    "train = add_features(train)\n",
    "gc.collect()"
   ]
  },
  {
   "cell_type": "markdown",
   "metadata": {},
   "source": [
    "Removing rows which are lectures as they cannot be used for training. After that I removed some columns which don't have any significance by themselves"
   ]
  },
  {
   "cell_type": "code",
   "execution_count": 19,
   "metadata": {
    "execution": {
     "iopub.execute_input": "2021-01-06T10:34:12.384764Z",
     "iopub.status.busy": "2021-01-06T10:34:12.384035Z",
     "iopub.status.idle": "2021-01-06T10:34:20.485090Z",
     "shell.execute_reply": "2021-01-06T10:34:20.484496Z"
    },
    "papermill": {
     "duration": 8.131855,
     "end_time": "2021-01-06T10:34:20.485208",
     "exception": false,
     "start_time": "2021-01-06T10:34:12.353353",
     "status": "completed"
    },
    "tags": []
   },
   "outputs": [],
   "source": [
    "train = train.loc[train.content_type_id == False].reset_index(drop=True)"
   ]
  },
  {
   "cell_type": "code",
   "execution_count": 20,
   "metadata": {
    "execution": {
     "iopub.execute_input": "2021-01-06T10:34:24.954800Z",
     "iopub.status.busy": "2021-01-06T10:34:24.953952Z",
     "iopub.status.idle": "2021-01-06T10:34:24.959663Z",
     "shell.execute_reply": "2021-01-06T10:34:24.958920Z"
    },
    "papermill": {
     "duration": 4.449573,
     "end_time": "2021-01-06T10:34:24.959784",
     "exception": false,
     "start_time": "2021-01-06T10:34:20.510211",
     "status": "completed"
    },
    "tags": []
   },
   "outputs": [
    {
     "data": {
      "text/plain": [
       "20"
      ]
     },
     "execution_count": 20,
     "metadata": {},
     "output_type": "execute_result"
    }
   ],
   "source": [
    "train = train.drop(['content_type_id','user_answer', 'timestamp'], axis = 1)\n",
    "gc.collect()"
   ]
  },
  {
   "cell_type": "code",
   "execution_count": 21,
   "metadata": {
    "execution": {
     "iopub.execute_input": "2021-01-06T10:34:25.020808Z",
     "iopub.status.busy": "2021-01-06T10:34:25.019862Z",
     "iopub.status.idle": "2021-01-06T10:34:25.025799Z",
     "shell.execute_reply": "2021-01-06T10:34:25.025173Z"
    },
    "papermill": {
     "duration": 0.039245,
     "end_time": "2021-01-06T10:34:25.025950",
     "exception": false,
     "start_time": "2021-01-06T10:34:24.986705",
     "status": "completed"
    },
    "tags": []
   },
   "outputs": [
    {
     "data": {
      "text/plain": [
       "Index(['user_id', 'content_id', 'answered_correctly',\n",
       "       'prior_question_elapsed_time', 'prior_question_had_explanation',\n",
       "       'answered_correctly_u_avg', 'explanation_u_avg', 'part', 'community',\n",
       "       'answered_correctly_q_avg', 'explanation_q_avg', 'elapsed_time_q_avg',\n",
       "       'timestamp_u_recency_1', 'timestamp_u_recency_2',\n",
       "       'timestamp_u_recency_3', 'timestamp_u_incorrect_recency',\n",
       "       'num_lectures', 'num_0', 'num_1', 'num_2', 'num_3',\n",
       "       'answered_correctly_uq_count'],\n",
       "      dtype='object')"
      ]
     },
     "execution_count": 21,
     "metadata": {},
     "output_type": "execute_result"
    }
   ],
   "source": [
    "train.columns"
   ]
  },
  {
   "cell_type": "code",
   "execution_count": 22,
   "metadata": {
    "execution": {
     "iopub.execute_input": "2021-01-06T10:34:25.092564Z",
     "iopub.status.busy": "2021-01-06T10:34:25.091862Z",
     "iopub.status.idle": "2021-01-06T10:34:25.096359Z",
     "shell.execute_reply": "2021-01-06T10:34:25.095680Z"
    },
    "papermill": {
     "duration": 0.039752,
     "end_time": "2021-01-06T10:34:25.096486",
     "exception": false,
     "start_time": "2021-01-06T10:34:25.056734",
     "status": "completed"
    },
    "tags": []
   },
   "outputs": [
    {
     "data": {
      "text/plain": [
       "user_id                             int32\n",
       "content_id                          int16\n",
       "answered_correctly                   int8\n",
       "prior_question_elapsed_time       float32\n",
       "prior_question_had_explanation       int8\n",
       "answered_correctly_u_avg          float32\n",
       "explanation_u_avg                 float32\n",
       "part                                 int8\n",
       "community                            int8\n",
       "answered_correctly_q_avg          float32\n",
       "explanation_q_avg                 float32\n",
       "elapsed_time_q_avg                float32\n",
       "timestamp_u_recency_1             float32\n",
       "timestamp_u_recency_2             float32\n",
       "timestamp_u_recency_3             float32\n",
       "timestamp_u_incorrect_recency     float32\n",
       "num_lectures                        int16\n",
       "num_0                               int16\n",
       "num_1                               int16\n",
       "num_2                               int16\n",
       "num_3                               int16\n",
       "answered_correctly_uq_count         int32\n",
       "dtype: object"
      ]
     },
     "execution_count": 22,
     "metadata": {},
     "output_type": "execute_result"
    }
   ],
   "source": [
    "train.dtypes"
   ]
  },
  {
   "cell_type": "markdown",
   "metadata": {},
   "source": [
    "Saving the train DataFrame as feather and all the feature accumulated dictionaries as pickles"
   ]
  },
  {
   "cell_type": "code",
   "execution_count": 23,
   "metadata": {
    "execution": {
     "iopub.execute_input": "2021-01-06T10:34:25.157737Z",
     "iopub.status.busy": "2021-01-06T10:34:25.157055Z",
     "iopub.status.idle": "2021-01-06T10:34:25.160873Z",
     "shell.execute_reply": "2021-01-06T10:34:25.159872Z"
    },
    "papermill": {
     "duration": 0.037643,
     "end_time": "2021-01-06T10:34:25.160995",
     "exception": false,
     "start_time": "2021-01-06T10:34:25.123352",
     "status": "completed"
    },
    "tags": []
   },
   "outputs": [],
   "source": [
    "def save_obj(obj, name ):\n",
    "    with open('./'+ name + '.pkl', 'wb') as f:\n",
    "        pickle.dump(obj, f, pickle.HIGHEST_PROTOCOL)\n",
    "\n",
    "def load_obj(name ):\n",
    "    with open('./' + name + '.pkl', 'rb') as f:\n",
    "        return pickle.load(f)"
   ]
  },
  {
   "cell_type": "code",
   "execution_count": 24,
   "metadata": {
    "execution": {
     "iopub.execute_input": "2021-01-06T10:34:25.225756Z",
     "iopub.status.busy": "2021-01-06T10:34:25.224976Z",
     "iopub.status.idle": "2021-01-06T10:34:27.866968Z",
     "shell.execute_reply": "2021-01-06T10:34:27.867789Z"
    },
    "papermill": {
     "duration": 2.677164,
     "end_time": "2021-01-06T10:34:27.867986",
     "exception": false,
     "start_time": "2021-01-06T10:34:25.190822",
     "status": "completed"
    },
    "tags": []
   },
   "outputs": [],
   "source": [
    "train.to_feather('riiid_train1.feather')"
   ]
  },
  {
   "cell_type": "code",
   "execution_count": 25,
   "metadata": {
    "execution": {
     "iopub.execute_input": "2021-01-06T10:34:28.035574Z",
     "iopub.status.busy": "2021-01-06T10:34:28.034306Z",
     "iopub.status.idle": "2021-01-06T10:37:43.011002Z",
     "shell.execute_reply": "2021-01-06T10:37:43.011576Z"
    },
    "papermill": {
     "duration": 195.072972,
     "end_time": "2021-01-06T10:37:43.011748",
     "exception": false,
     "start_time": "2021-01-06T10:34:27.938776",
     "status": "completed"
    },
    "tags": []
   },
   "outputs": [
    {
     "name": "stdout",
     "output_type": "stream",
     "text": [
      "CPU times: user 3min 4s, sys: 10.7 s, total: 3min 14s\n",
      "Wall time: 3min 14s\n"
     ]
    }
   ],
   "source": [
    "%%time\n",
    "save_obj(answered_correctly_u_count, 'answered_correctly_u_count')\n",
    "save_obj(answered_correctly_u_sum, 'answered_correctly_u_sum')\n",
    "save_obj(explanation_u_sum, 'explanation_u_sum')\n",
    "save_obj(timestamp_u, 'timestamp_u')\n",
    "save_obj(timestamp_u_incorrect, 'timestamp_u_incorrect')\n",
    "save_obj(lecture_count, 'lecture_count')\n",
    "save_obj(answer_u_count, 'answer_u_count')\n",
    "save_obj(answered_correctly_q_count, 'answered_correctly_q_count')\n",
    "save_obj(answered_correctly_q_sum, 'answered_correctly_q_sum')\n",
    "save_obj(elapsed_time_q_sum, 'elapsed_time_q_sum')\n",
    "save_obj(explanation_q_sum, 'explanation_q_sum')\n",
    "save_obj(answered_correctly_uq, 'answered_correctly_uq')"
   ]
  }
 ],
 "metadata": {
  "kernelspec": {
   "display_name": "Python 3",
   "language": "python",
   "name": "python3"
  },
  "language_info": {
   "codemirror_mode": {
    "name": "ipython",
    "version": 3
   },
   "file_extension": ".py",
   "mimetype": "text/x-python",
   "name": "python",
   "nbconvert_exporter": "python",
   "pygments_lexer": "ipython3",
   "version": "3.6.8"
  },
  "papermill": {
   "duration": 3065.050486,
   "end_time": "2021-01-06T10:37:44.243078",
   "environment_variables": {},
   "exception": null,
   "input_path": "__notebook__.ipynb",
   "output_path": "__notebook__.ipynb",
   "parameters": {},
   "start_time": "2021-01-06T09:46:39.192592",
   "version": "2.1.0"
  },
  "widgets": {
   "application/vnd.jupyter.widget-state+json": {
    "state": {
     "04c1c9dc41624bdfa4dee25bceb02cd0": {
      "model_module": "@jupyter-widgets/base",
      "model_module_version": "1.2.0",
      "model_name": "LayoutModel",
      "state": {
       "_model_module": "@jupyter-widgets/base",
       "_model_module_version": "1.2.0",
       "_model_name": "LayoutModel",
       "_view_count": null,
       "_view_module": "@jupyter-widgets/base",
       "_view_module_version": "1.2.0",
       "_view_name": "LayoutView",
       "align_content": null,
       "align_items": null,
       "align_self": null,
       "border": null,
       "bottom": null,
       "display": null,
       "flex": null,
       "flex_flow": null,
       "grid_area": null,
       "grid_auto_columns": null,
       "grid_auto_flow": null,
       "grid_auto_rows": null,
       "grid_column": null,
       "grid_gap": null,
       "grid_row": null,
       "grid_template_areas": null,
       "grid_template_columns": null,
       "grid_template_rows": null,
       "height": null,
       "justify_content": null,
       "justify_items": null,
       "left": null,
       "margin": null,
       "max_height": null,
       "max_width": null,
       "min_height": null,
       "min_width": null,
       "object_fit": null,
       "object_position": null,
       "order": null,
       "overflow": null,
       "overflow_x": null,
       "overflow_y": null,
       "padding": null,
       "right": null,
       "top": null,
       "visibility": null,
       "width": null
      }
     },
     "55d29f83580f4db3b881d3620362ca4e": {
      "model_module": "@jupyter-widgets/controls",
      "model_module_version": "1.5.0",
      "model_name": "DescriptionStyleModel",
      "state": {
       "_model_module": "@jupyter-widgets/controls",
       "_model_module_version": "1.5.0",
       "_model_name": "DescriptionStyleModel",
       "_view_count": null,
       "_view_module": "@jupyter-widgets/base",
       "_view_module_version": "1.2.0",
       "_view_name": "StyleView",
       "description_width": ""
      }
     },
     "625c6ad2c31340d0a7e7c652f366a564": {
      "model_module": "@jupyter-widgets/controls",
      "model_module_version": "1.5.0",
      "model_name": "FloatProgressModel",
      "state": {
       "_dom_classes": [],
       "_model_module": "@jupyter-widgets/controls",
       "_model_module_version": "1.5.0",
       "_model_name": "FloatProgressModel",
       "_view_count": null,
       "_view_module": "@jupyter-widgets/controls",
       "_view_module_version": "1.5.0",
       "_view_name": "ProgressView",
       "bar_style": "success",
       "description": "100%",
       "description_tooltip": null,
       "layout": "IPY_MODEL_f8385a9da7fc440cae6fc283f2026f37",
       "max": 32910110,
       "min": 0,
       "orientation": "horizontal",
       "style": "IPY_MODEL_e9cac94c22624973ad2b7011b486ed83",
       "value": 32910110
      }
     },
     "7538f12987b042e2b4c09b9ea13618a8": {
      "model_module": "@jupyter-widgets/controls",
      "model_module_version": "1.5.0",
      "model_name": "HBoxModel",
      "state": {
       "_dom_classes": [],
       "_model_module": "@jupyter-widgets/controls",
       "_model_module_version": "1.5.0",
       "_model_name": "HBoxModel",
       "_view_count": null,
       "_view_module": "@jupyter-widgets/controls",
       "_view_module_version": "1.5.0",
       "_view_name": "HBoxView",
       "box_style": "",
       "children": [
        "IPY_MODEL_625c6ad2c31340d0a7e7c652f366a564",
        "IPY_MODEL_ea7c33f7af964ee1826e28d9b4962129"
       ],
       "layout": "IPY_MODEL_04c1c9dc41624bdfa4dee25bceb02cd0"
      }
     },
     "8205430ee2784eceb044db85f52a3f40": {
      "model_module": "@jupyter-widgets/base",
      "model_module_version": "1.2.0",
      "model_name": "LayoutModel",
      "state": {
       "_model_module": "@jupyter-widgets/base",
       "_model_module_version": "1.2.0",
       "_model_name": "LayoutModel",
       "_view_count": null,
       "_view_module": "@jupyter-widgets/base",
       "_view_module_version": "1.2.0",
       "_view_name": "LayoutView",
       "align_content": null,
       "align_items": null,
       "align_self": null,
       "border": null,
       "bottom": null,
       "display": null,
       "flex": null,
       "flex_flow": null,
       "grid_area": null,
       "grid_auto_columns": null,
       "grid_auto_flow": null,
       "grid_auto_rows": null,
       "grid_column": null,
       "grid_gap": null,
       "grid_row": null,
       "grid_template_areas": null,
       "grid_template_columns": null,
       "grid_template_rows": null,
       "height": null,
       "justify_content": null,
       "justify_items": null,
       "left": null,
       "margin": null,
       "max_height": null,
       "max_width": null,
       "min_height": null,
       "min_width": null,
       "object_fit": null,
       "object_position": null,
       "order": null,
       "overflow": null,
       "overflow_x": null,
       "overflow_y": null,
       "padding": null,
       "right": null,
       "top": null,
       "visibility": null,
       "width": null
      }
     },
     "e9cac94c22624973ad2b7011b486ed83": {
      "model_module": "@jupyter-widgets/controls",
      "model_module_version": "1.5.0",
      "model_name": "ProgressStyleModel",
      "state": {
       "_model_module": "@jupyter-widgets/controls",
       "_model_module_version": "1.5.0",
       "_model_name": "ProgressStyleModel",
       "_view_count": null,
       "_view_module": "@jupyter-widgets/base",
       "_view_module_version": "1.2.0",
       "_view_name": "StyleView",
       "bar_color": null,
       "description_width": "initial"
      }
     },
     "ea7c33f7af964ee1826e28d9b4962129": {
      "model_module": "@jupyter-widgets/controls",
      "model_module_version": "1.5.0",
      "model_name": "HTMLModel",
      "state": {
       "_dom_classes": [],
       "_model_module": "@jupyter-widgets/controls",
       "_model_module_version": "1.5.0",
       "_model_name": "HTMLModel",
       "_view_count": null,
       "_view_module": "@jupyter-widgets/controls",
       "_view_module_version": "1.5.0",
       "_view_name": "HTMLView",
       "description": "",
       "description_tooltip": null,
       "layout": "IPY_MODEL_8205430ee2784eceb044db85f52a3f40",
       "placeholder": "​",
       "style": "IPY_MODEL_55d29f83580f4db3b881d3620362ca4e",
       "value": " 32910110/32910110 [46:19&lt;00:00, 11839.79it/s]"
      }
     },
     "f8385a9da7fc440cae6fc283f2026f37": {
      "model_module": "@jupyter-widgets/base",
      "model_module_version": "1.2.0",
      "model_name": "LayoutModel",
      "state": {
       "_model_module": "@jupyter-widgets/base",
       "_model_module_version": "1.2.0",
       "_model_name": "LayoutModel",
       "_view_count": null,
       "_view_module": "@jupyter-widgets/base",
       "_view_module_version": "1.2.0",
       "_view_name": "LayoutView",
       "align_content": null,
       "align_items": null,
       "align_self": null,
       "border": null,
       "bottom": null,
       "display": null,
       "flex": null,
       "flex_flow": null,
       "grid_area": null,
       "grid_auto_columns": null,
       "grid_auto_flow": null,
       "grid_auto_rows": null,
       "grid_column": null,
       "grid_gap": null,
       "grid_row": null,
       "grid_template_areas": null,
       "grid_template_columns": null,
       "grid_template_rows": null,
       "height": null,
       "justify_content": null,
       "justify_items": null,
       "left": null,
       "margin": null,
       "max_height": null,
       "max_width": null,
       "min_height": null,
       "min_width": null,
       "object_fit": null,
       "object_position": null,
       "order": null,
       "overflow": null,
       "overflow_x": null,
       "overflow_y": null,
       "padding": null,
       "right": null,
       "top": null,
       "visibility": null,
       "width": null
      }
     }
    },
    "version_major": 2,
    "version_minor": 0
   }
  }
 },
 "nbformat": 4,
 "nbformat_minor": 4
}
