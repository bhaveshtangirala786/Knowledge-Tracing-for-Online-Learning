{
 "cells": [
  {
   "cell_type": "markdown",
   "metadata": {},
   "source": [
    "## Installing and Importing some necessary modules"
   ]
  },
  {
   "cell_type": "code",
   "execution_count": 1,
   "metadata": {},
   "outputs": [],
   "source": [
    "# !pip install pytorch-tabnet\n",
    "# !pip install seaborn\n",
    "# !pip install lightgbm\n",
    "# !pip install kaggle\n",
    "# !pip install pyarrow"
   ]
  },
  {
   "cell_type": "code",
   "execution_count": 2,
   "metadata": {},
   "outputs": [],
   "source": [
    "import os\n",
    "import gc\n",
    "from logging import getLogger, INFO, StreamHandler, FileHandler, Formatter\n",
    "from contextlib import contextmanager\n",
    "import time\n",
    "\n",
    "import numpy as np\n",
    "import pandas as pd\n",
    "import scipy as sp\n",
    "import random\n",
    "\n",
    "import matplotlib.pyplot as plt\n",
    "import seaborn as sns\n",
    "\n",
    "from functools import partial\n",
    "\n",
    "from sklearn.model_selection import StratifiedKFold, GroupKFold, KFold\n",
    "from sklearn import preprocessing\n",
    "from sklearn.metrics import mean_squared_error\n",
    "\n",
    "import torch\n",
    "from sklearn.preprocessing import LabelEncoder\n",
    "\n",
    "import pandas as pd\n",
    "import numpy as np\n",
    "np.random.seed(0)\n",
    "\n",
    "from pytorch_tabnet.tab_model import TabNetClassifier ##Import Tabnet \n",
    "\n",
    "from pathlib import Path\n",
    "\n",
    "import lightgbm as lgb\n",
    "\n",
    "import warnings\n",
    "warnings.filterwarnings(\"ignore\")"
   ]
  },
  {
   "cell_type": "markdown",
   "metadata": {},
   "source": [
    "## Seeding all random parameters for reproducibility"
   ]
  },
  {
   "cell_type": "code",
   "execution_count": 3,
   "metadata": {},
   "outputs": [],
   "source": [
    "def seed_everything(seed):\n",
    "    random.seed(seed)\n",
    "    os.environ['PYTHONHASHSEED'] = str(seed)\n",
    "    np.random.seed(seed)\n",
    "    torch.manual_seed(seed)\n",
    "    torch.cuda.manual_seed(seed)\n",
    "    torch.backends.cudnn.deterministic = True\n",
    "SEED = 123\n",
    "seed_everything(SEED)"
   ]
  },
  {
   "cell_type": "markdown",
   "metadata": {},
   "source": [
    "## Downloading and Reading the dataset"
   ]
  },
  {
   "cell_type": "code",
   "execution_count": 4,
   "metadata": {},
   "outputs": [],
   "source": [
    "# os.environ['KAGGLE_CONFIG_DIR'] = '/notebooks/'\n",
    "# !kaggle datasets download -d abhimanyukarshni/riiid-train"
   ]
  },
  {
   "cell_type": "code",
   "execution_count": 5,
   "metadata": {},
   "outputs": [],
   "source": [
    "# !unzip riiid-train.zip\n",
    "# !rm riiid-train.zip"
   ]
  },
  {
   "cell_type": "code",
   "execution_count": 6,
   "metadata": {},
   "outputs": [],
   "source": [
    "# import data\n",
    "train = pd.read_feather(\"riiid_train1.feather\").iloc[:30000000].reset_index(drop = True)\n",
    "val = pd.read_feather(\"riiid_train1.feather\").iloc[30000000:].reset_index(drop = True)"
   ]
  },
  {
   "cell_type": "markdown",
   "metadata": {},
   "source": [
    "Splitting training dataset into train and validation sets. Then extracting meaningful features for training"
   ]
  },
  {
   "cell_type": "code",
   "execution_count": 7,
   "metadata": {},
   "outputs": [
    {
     "data": {
      "text/plain": [
       "14"
      ]
     },
     "execution_count": 7,
     "metadata": {},
     "output_type": "execute_result"
    }
   ],
   "source": [
    "TARGET = 'answered_correctly'\n",
    "# Features to train and predict\n",
    "FEATURES = ['prior_question_elapsed_time', 'prior_question_had_explanation',\n",
    "       'answered_correctly_u_avg', 'explanation_u_avg', 'part', 'community',\n",
    "       'answered_correctly_q_avg', 'explanation_q_avg', 'elapsed_time_q_avg',\n",
    "       'timestamp_u_recency_1', 'timestamp_u_recency_2',\n",
    "       'timestamp_u_recency_3', 'timestamp_u_incorrect_recency',\n",
    "       'num_lectures', 'num_0', 'num_1', 'num_2', 'num_3',\n",
    "       'answered_correctly_uq_count']\n",
    "\n",
    "# Shuffle\n",
    "train = train.sample(30000000)\n",
    "gc.collect()\n",
    "\n",
    "drop_cols = list(set(train.columns) - set(FEATURES))\n",
    "y_train = train[TARGET]\n",
    "y_val = val[TARGET]\n",
    "# Drop unnecessary columns\n",
    "train.drop(drop_cols, axis = 1, inplace = True)\n",
    "val.drop(drop_cols, axis = 1, inplace = True)\n",
    "gc.collect()"
   ]
  },
  {
   "cell_type": "markdown",
   "metadata": {},
   "source": [
    "Filling null values with means of the respective features, because TabNet does not accept Nan values"
   ]
  },
  {
   "cell_type": "code",
   "execution_count": 8,
   "metadata": {},
   "outputs": [],
   "source": [
    "nulls = ['answered_correctly_u_avg', 'explanation_u_avg', 'answered_correctly_q_avg', 'explanation_q_avg', 'elapsed_time_q_avg', 'timestamp_u_recency_1', 'timestamp_u_recency_2', 'timestamp_u_recency_3', 'timestamp_u_incorrect_recency']\n",
    "for i in nulls:\n",
    "    m = train[i].dropna().values.mean()\n",
    "    train[i].fillna(m, inplace = True)\n",
    "    val[i].fillna(m, inplace = True)"
   ]
  },
  {
   "cell_type": "markdown",
   "metadata": {},
   "source": [
    "The values of **part** feature range from 1-7, but TabNet accepts only 0 based indexing of features. So I encoded the feature values from 1 based indexing to 0 based indexing."
   ]
  },
  {
   "cell_type": "code",
   "execution_count": 9,
   "metadata": {},
   "outputs": [],
   "source": [
    "enc = LabelEncoder()\n",
    "enc.fit(train.part)\n",
    "train.part = enc.transform(train.part)\n",
    "val.part = enc.transform(val.part)"
   ]
  },
  {
   "cell_type": "markdown",
   "metadata": {},
   "source": [
    "## TabNet Classifier"
   ]
  },
  {
   "cell_type": "code",
   "execution_count": 10,
   "metadata": {},
   "outputs": [
    {
     "name": "stdout",
     "output_type": "stream",
     "text": [
      "Device used : cuda\n"
     ]
    }
   ],
   "source": [
    "# part and community are categorical features\n",
    "cat_idx = [4, 5]\n",
    "cat_dim = [7, 5]\n",
    "cat_emb = [5, 5]\n",
    "\n",
    "clf = TabNetClassifier(seed = SEED,\n",
    "                       cat_idxs = cat_idx,\n",
    "                       cat_dims = cat_dim, \n",
    "                       cat_emb_dim = cat_emb,\n",
    "                       scheduler_fn = torch.optim.lr_scheduler.ReduceLROnPlateau,\n",
    "                       scheduler_params = {\"mode\":'max', \"factor\":0.5, \"patience\":1, \"verbose\":\"True\"},\n",
    "                       device_name = 'cuda'\n",
    "                       )"
   ]
  },
  {
   "cell_type": "code",
   "execution_count": 11,
   "metadata": {},
   "outputs": [
    {
     "name": "stdout",
     "output_type": "stream",
     "text": [
      "epoch 0  | loss: 0.55482 | val_0_auc: 0.75447 |  0:11:00s\n",
      "epoch 1  | loss: 0.54708 | val_0_auc: 0.75563 |  0:22:04s\n",
      "epoch 2  | loss: 0.5464  | val_0_auc: 0.7565  |  0:33:08s\n",
      "epoch 3  | loss: 0.54587 | val_0_auc: 0.75696 |  0:44:12s\n",
      "epoch 4  | loss: 0.54546 | val_0_auc: 0.75628 |  0:55:15s\n",
      "Stop training because you reached max_epochs = 5 with best_epoch = 3 and best_val_0_auc = 0.75696\n",
      "Best weights from best epoch are automatically used!\n"
     ]
    }
   ],
   "source": [
    "clf.fit(\n",
    "            X_train=np.array(train), y_train=np.array(y_train), \n",
    "            eval_set = [(np.array(val), np.array(y_val))], \n",
    "            eval_metric = ['auc'],\n",
    "          # 0 for no balancing,1 for automated balancing,dict for custom weights per class\n",
    "            weights =0, \n",
    "          # Maximum number of epochs during training , Default 1000. I used 5\n",
    "            max_epochs=5,\n",
    "          # Number of consecutive non improving epoch before early stopping , Default 50\n",
    "            patience=10, \n",
    "          # Training batch size\n",
    "            batch_size=65536,\n",
    "          # Batch size for Ghost Batch Normalization (virtual_batch_size < batch_size)\n",
    "            virtual_batch_size=32768 )\n"
   ]
  },
  {
   "cell_type": "code",
   "execution_count": 12,
   "metadata": {},
   "outputs": [
    {
     "name": "stdout",
     "output_type": "stream",
     "text": [
      "Successfully saved model at storage/tabnet_30M.zip\n"
     ]
    },
    {
     "data": {
      "text/plain": [
       "'storage/tabnet_30M.zip'"
      ]
     },
     "execution_count": 12,
     "metadata": {},
     "output_type": "execute_result"
    }
   ],
   "source": [
    "clf.save_model('storage/tabnet_30M')"
   ]
  },
  {
   "cell_type": "code",
   "execution_count": 13,
   "metadata": {},
   "outputs": [],
   "source": [
    "# clf.load_model('storage/tabnet_20M')"
   ]
  },
  {
   "cell_type": "code",
   "execution_count": 14,
   "metadata": {},
   "outputs": [],
   "source": [
    "feature_importance_df = pd.DataFrame()\n",
    "feature_importance_df[\"Feature\"] = FEATURES\n",
    "feature_importance_df[\"importance\"] = clf.feature_importances_"
   ]
  },
  {
   "cell_type": "code",
   "execution_count": 15,
   "metadata": {},
   "outputs": [
    {
     "data": {
      "image/png": "[encoded data removed]",
      "text/plain": [
       "<Figure size 576x1152 with 1 Axes>"
      ]
     },
     "metadata": {
      "needs_background": "light"
     },
     "output_type": "display_data"
    }
   ],
   "source": [
    "cols = (feature_importance_df[[\"Feature\", \"importance\"]].groupby(\"Feature\").mean().sort_values(by=\"importance\", ascending = False)[:50].index)\n",
    "best_features = feature_importance_df.loc[feature_importance_df.Feature.isin(cols)]\n",
    "\n",
    "plt.figure(figsize=(8, 16))\n",
    "sns.barplot(x=\"importance\", y=\"Feature\", data=best_features.sort_values(by=\"importance\", ascending=False))\n",
    "plt.title('Features importance')\n",
    "plt.tight_layout()\n",
    "plt.savefig('feature_importance_riid.png')"
   ]
  }
 ],
 "metadata": {
  "kernelspec": {
   "display_name": "Python 3",
   "language": "python",
   "name": "python3"
  },
  "language_info": {
   "codemirror_mode": {
    "name": "ipython",
    "version": 3
   },
   "file_extension": ".py",
   "mimetype": "text/x-python",
   "name": "python",
   "nbconvert_exporter": "python",
   "pygments_lexer": "ipython3",
   "version": "3.6.8"
  }
 },
 "nbformat": 4,
 "nbformat_minor": 4
}
