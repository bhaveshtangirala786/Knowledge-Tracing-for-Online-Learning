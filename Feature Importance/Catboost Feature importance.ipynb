{
 "cells": [
  {
   "cell_type": "markdown",
   "metadata": {},
   "source": [
    "## Installing and Importing some necessary modules"
   ]
  },
  {
   "cell_type": "code",
   "execution_count": 1,
   "metadata": {},
   "outputs": [],
   "source": [
    "# !pip install catboost\n",
    "# !pip install kaggle\n",
    "# !pip install pyarrow"
   ]
  },
  {
   "cell_type": "code",
   "execution_count": 2,
   "metadata": {
    "_cell_guid": "79c7e3d0-c299-4dcb-8224-4455121ee9b0",
    "_uuid": "d629ff2d2480ee46fbb7e2d37f6b5fab8052498a"
   },
   "outputs": [],
   "source": [
    "# Libraries\n",
    "import os.path\n",
    "\n",
    "import numpy as np\n",
    "import pandas as pd\n",
    "import random\n",
    "import gc, os\n",
    "\n",
    "from datetime import timedelta \n",
    "from datetime import datetime\n",
    "\n",
    "from sklearn.metrics import roc_auc_score\n",
    "from sklearn.model_selection import train_test_split, StratifiedKFold\n",
    "from sklearn.ensemble import RandomForestClassifier\n",
    "from sklearn.linear_model import LogisticRegression\n",
    "from sklearn.preprocessing import LabelEncoder, OneHotEncoder, OrdinalEncoder, MinMaxScaler\n",
    "\n",
    "from catboost import CatBoostClassifier, Pool\n",
    "\n",
    "import matplotlib.pyplot as plt\n",
    "\n",
    "%matplotlib inline\n",
    "\n",
    "pd.options.display.max_columns = None\n",
    "pd.options.display.max_rows = None"
   ]
  },
  {
   "cell_type": "markdown",
   "metadata": {},
   "source": [
    "## Seeding all random parameters for reproducibility"
   ]
  },
  {
   "cell_type": "code",
   "execution_count": 3,
   "metadata": {},
   "outputs": [],
   "source": [
    "# Random seed\n",
    "SEED = 123\n",
    "\n",
    "# Function to seed everything\n",
    "def seed_everything(seed):\n",
    "    random.seed(seed)\n",
    "    np.random.seed(seed)\n",
    "    os.environ['PYTHONHASHSEED'] = str(seed)\n",
    "    \n",
    "seed_everything(SEED)"
   ]
  },
  {
   "cell_type": "markdown",
   "metadata": {},
   "source": [
    "## Downloading and Reading the dataset"
   ]
  },
  {
   "cell_type": "code",
   "execution_count": 4,
   "metadata": {},
   "outputs": [],
   "source": [
    "# os.environ['KAGGLE_CONFIG_DIR'] = '/notebooks/'\n",
    "# !kaggle datasets download -d abhimanyukarshni/riiid-train"
   ]
  },
  {
   "cell_type": "code",
   "execution_count": 5,
   "metadata": {},
   "outputs": [],
   "source": [
    "# !unzip riiid-train.zip\n",
    "# !rm riiid-train.zip"
   ]
  },
  {
   "cell_type": "code",
   "execution_count": 6,
   "metadata": {},
   "outputs": [],
   "source": [
    "# import data\n",
    "train = pd.read_feather(\"riiid_train1.feather\").iloc[:22000000].reset_index(drop = True)\n",
    "val = pd.read_feather(\"riiid_train1.feather\").iloc[22000000:].reset_index(drop = True)"
   ]
  },
  {
   "cell_type": "markdown",
   "metadata": {},
   "source": [
    "Splitting training dataset into train and validation sets. Then extracting meaningful features for training"
   ]
  },
  {
   "cell_type": "code",
   "execution_count": 7,
   "metadata": {},
   "outputs": [
    {
     "data": {
      "text/plain": [
       "14"
      ]
     },
     "execution_count": 7,
     "metadata": {},
     "output_type": "execute_result"
    }
   ],
   "source": [
    "TARGET = 'answered_correctly'\n",
    "# Features to train and predict\n",
    "FEATURES = ['prior_question_elapsed_time',\n",
    "       'prior_question_had_explanation', 'answered_correctly_u_avg',\n",
    "       'explanation_u_avg', 'part', 'answered_correctly_q_avg', 'explanation_q_avg','elapsed_time_q',\n",
    "       'timestamp_u_recency_1', 'timestamp_u_recency_2',\n",
    "       'timestamp_u_recency_3', 'timestamp_u_incorrect_recency',\n",
    "       'num_questions_u', 'num_correct_u', 'num_lectures',\n",
    "       'num_explanations_u', 'num_0', 'num_1', 'num_2', 'num_3',\n",
    "       'num_questions_q', 'num_correct_q', 'num_explanations_q', 'community',\n",
    "       'type_0', 'type_1', 'type_2', 'type_3']\n",
    "\n",
    "# Shuffle\n",
    "train = train.sample(22000000, random_state = SEED)\n",
    "gc.collect()\n",
    "\n",
    "drop_cols = list(set(train.columns) - set(FEATURES))\n",
    "y_train = train[TARGET]\n",
    "y_val = val[TARGET]\n",
    "# Drop unnecessary columns\n",
    "train.drop(drop_cols, axis = 1, inplace = True)\n",
    "val.drop(drop_cols, axis = 1, inplace = True)\n",
    "gc.collect()"
   ]
  },
  {
   "cell_type": "markdown",
   "metadata": {},
   "source": [
    "# CatBoost Algorithm"
   ]
  },
  {
   "cell_type": "markdown",
   "metadata": {},
   "source": [
    "Assigning categorical feature indices which are **part** and **community**"
   ]
  },
  {
   "cell_type": "code",
   "execution_count": 8,
   "metadata": {},
   "outputs": [],
   "source": [
    "categorical_features_indices = [4, 23]"
   ]
  },
  {
   "cell_type": "markdown",
   "metadata": {},
   "source": [
    "Creating CatBoostClassifier model with some parameters and training it with data which was processed above"
   ]
  },
  {
   "cell_type": "code",
   "execution_count": 9,
   "metadata": {},
   "outputs": [],
   "source": [
    " model = CatBoostClassifier(\n",
    "        cat_features = categorical_features_indices,\n",
    "        loss_function='Logloss',\n",
    "        eval_metric='AUC',    \n",
    "        iterations = 1000,\n",
    "        random_seed = SEED,\n",
    "        use_best_model = True,\n",
    "        task_type = \"GPU\",\n",
    "        nan_mode='Min',\n",
    "        verbose=100\n",
    "    )"
   ]
  },
  {
   "cell_type": "code",
   "execution_count": 10,
   "metadata": {},
   "outputs": [
    {
     "name": "stdout",
     "output_type": "stream",
     "text": [
      "Learning rate set to 0.030438\n",
      "0:\tlearn: 0.5585870\ttest: 0.5580057\tbest: 0.5580057 (0)\ttotal: 1.71s\tremaining: 28m 26s\n",
      "100:\tlearn: 0.7330384\ttest: 0.7342485\tbest: 0.7342485 (100)\ttotal: 3m 27s\tremaining: 30m 45s\n",
      "200:\tlearn: 0.7458516\ttest: 0.7474291\tbest: 0.7474291 (200)\ttotal: 7m\tremaining: 27m 51s\n",
      "300:\tlearn: 0.7505841\ttest: 0.7519575\tbest: 0.7519575 (300)\ttotal: 10m 47s\tremaining: 25m 4s\n",
      "400:\tlearn: 0.7532762\ttest: 0.7544328\tbest: 0.7544328 (400)\ttotal: 14m 39s\tremaining: 21m 53s\n",
      "500:\tlearn: 0.7552678\ttest: 0.7562909\tbest: 0.7562909 (500)\ttotal: 18m 34s\tremaining: 18m 29s\n",
      "600:\tlearn: 0.7565375\ttest: 0.7574875\tbest: 0.7574875 (600)\ttotal: 22m 28s\tremaining: 14m 55s\n",
      "700:\tlearn: 0.7575938\ttest: 0.7584602\tbest: 0.7584602 (700)\ttotal: 26m 28s\tremaining: 11m 17s\n",
      "800:\tlearn: 0.7584316\ttest: 0.7592190\tbest: 0.7592190 (800)\ttotal: 30m 27s\tremaining: 7m 34s\n",
      "900:\tlearn: 0.7591287\ttest: 0.7598552\tbest: 0.7598552 (900)\ttotal: 34m 29s\tremaining: 3m 47s\n",
      "999:\tlearn: 0.7597814\ttest: 0.7604468\tbest: 0.7604468 (999)\ttotal: 38m 28s\tremaining: 0us\n",
      "bestTest = 0.7604468465\n",
      "bestIteration = 999\n"
     ]
    },
    {
     "data": {
      "text/plain": [
       "<catboost.core.CatBoostClassifier at 0x7eff32cc1438>"
      ]
     },
     "execution_count": 10,
     "metadata": {},
     "output_type": "execute_result"
    }
   ],
   "source": [
    "model.fit(\n",
    "        train, y_train,\n",
    "        verbose_eval=100, \n",
    "        early_stopping_rounds=100,\n",
    "        cat_features=categorical_features_indices,\n",
    "        eval_set=(val, y_val),\n",
    "        use_best_model=True,\n",
    ")"
   ]
  },
  {
   "cell_type": "code",
   "execution_count": 11,
   "metadata": {},
   "outputs": [],
   "source": [
    "model.save_model('storage/cat_20M',\n",
    "           format=\"cbm\")"
   ]
  },
  {
   "cell_type": "code",
   "execution_count": 12,
   "metadata": {},
   "outputs": [],
   "source": [
    "# model.load_model('cat_30M', format = \"cbm\")"
   ]
  },
  {
   "cell_type": "markdown",
   "metadata": {},
   "source": [
    "As the data is too big for iterating through it at once, I only considered a fraction (5 million) samples to calculate feature importance"
   ]
  },
  {
   "cell_type": "code",
   "execution_count": 13,
   "metadata": {},
   "outputs": [],
   "source": [
    "X = train.iloc[:5000000]\n",
    "y = y_train.iloc[:5000000]\n",
    "del train, y_train, val, y_val"
   ]
  },
  {
   "cell_type": "code",
   "execution_count": 14,
   "metadata": {},
   "outputs": [],
   "source": [
    "feature_score = pd.DataFrame(list(zip(X.dtypes.index, model.get_feature_importance(Pool(X, label=y, cat_features=categorical_features_indices)))),\n",
    "                columns=['Feature','Score'])\n",
    "\n",
    "feature_score = feature_score.sort_values(by='Score', ascending=False, inplace=False, kind='quicksort', na_position='last')"
   ]
  },
  {
   "cell_type": "code",
   "execution_count": 15,
   "metadata": {},
   "outputs": [
    {
     "data": {
      "image/png": "[encoded data removed]",
      "text/plain": [
       "<Figure size 864x504 with 1 Axes>"
      ]
     },
     "metadata": {
      "needs_background": "light"
     },
     "output_type": "display_data"
    }
   ],
   "source": [
    "plt.rcParams[\"figure.figsize\"] = (12,7)\n",
    "ax = feature_score.plot('Feature', 'Score', kind='bar', color='c')\n",
    "ax.set_title(\"Catboost Feature Importance Ranking\", fontsize = 14)\n",
    "ax.set_xlabel('')\n",
    "\n",
    "rects = ax.patches\n",
    "\n",
    "labels = feature_score['Score'].round(2)\n",
    "\n",
    "for rect, label in zip(rects, labels):\n",
    "    height = rect.get_height()\n",
    "    ax.text(rect.get_x() + rect.get_width()/2, height + 0.35, label, ha='center', va='bottom')\n",
    "\n",
    "plt.show()"
   ]
  }
 ],
 "metadata": {
  "kernelspec": {
   "display_name": "Python 3",
   "language": "python",
   "name": "python3"
  },
  "language_info": {
   "codemirror_mode": {
    "name": "ipython",
    "version": 3
   },
   "file_extension": ".py",
   "mimetype": "text/x-python",
   "name": "python",
   "nbconvert_exporter": "python",
   "pygments_lexer": "ipython3",
   "version": "3.6.8"
  }
 },
 "nbformat": 4,
 "nbformat_minor": 4
}
