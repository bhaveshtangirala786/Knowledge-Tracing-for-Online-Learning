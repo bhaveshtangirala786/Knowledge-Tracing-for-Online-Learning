{
 "cells": [
  {
   "cell_type": "markdown",
   "metadata": {},
   "source": [
    "## Installing and Importing some necessary modules"
   ]
  },
  {
   "cell_type": "code",
   "execution_count": 1,
   "metadata": {
    "_cell_guid": "b1076dfc-b9ad-4769-8c92-a6c4dae69d19",
    "_uuid": "8f2839f25d086af736a60e9eeb907d3b93b6e0e5",
    "execution": {
     "iopub.execute_input": "2021-01-06T18:02:10.033910Z",
     "iopub.status.busy": "2021-01-06T18:02:10.033285Z",
     "iopub.status.idle": "2021-01-06T18:02:11.708679Z",
     "shell.execute_reply": "2021-01-06T18:02:11.707818Z"
    },
    "papermill": {
     "duration": 1.692507,
     "end_time": "2021-01-06T18:02:11.708801",
     "exception": false,
     "start_time": "2021-01-06T18:02:10.016294",
     "status": "completed"
    },
    "tags": []
   },
   "outputs": [
    {
     "data": {
      "text/html": [
       "<style type='text/css'>\n",
       ".datatable table.frame { margin-bottom: 0; }\n",
       ".datatable table.frame thead { border-bottom: none; }\n",
       ".datatable table.frame tr.coltypes td {  color: #FFFFFF;  line-height: 6px;  padding: 0 0.5em;}\n",
       ".datatable .bool    { background: #DDDD99; }\n",
       ".datatable .object  { background: #565656; }\n",
       ".datatable .int     { background: #5D9E5D; }\n",
       ".datatable .float   { background: #4040CC; }\n",
       ".datatable .str     { background: #CC4040; }\n",
       ".datatable .row_index {  background: var(--jp-border-color3);  border-right: 1px solid var(--jp-border-color0);  color: var(--jp-ui-font-color3);  font-size: 9px;}\n",
       ".datatable .frame tr.coltypes .row_index {  background: var(--jp-border-color0);}\n",
       ".datatable th:nth-child(2) { padding-left: 12px; }\n",
       ".datatable .hellipsis {  color: var(--jp-cell-editor-border-color);}\n",
       ".datatable .vellipsis {  background: var(--jp-layout-color0);  color: var(--jp-cell-editor-border-color);}\n",
       ".datatable .na {  color: var(--jp-cell-editor-border-color);  font-size: 80%;}\n",
       ".datatable .footer { font-size: 9px; }\n",
       ".datatable .frame_dimensions {  background: var(--jp-border-color3);  border-top: 1px solid var(--jp-border-color0);  color: var(--jp-ui-font-color3);  display: inline-block;  opacity: 0.6;  padding: 1px 10px 1px 5px;}\n",
       "</style>\n"
      ],
      "text/plain": [
       "<IPython.core.display.HTML object>"
      ]
     },
     "metadata": {},
     "output_type": "display_data"
    }
   ],
   "source": [
    "import pandas as pd\n",
    "import numpy as np\n",
    "import gc\n",
    "from sklearn.metrics import roc_auc_score\n",
    "from collections import defaultdict\n",
    "from tqdm.notebook import tqdm\n",
    "import lightgbm as lgb\n",
    "import riiideducation\n",
    "import matplotlib.pyplot as plt\n",
    "import seaborn as sns\n",
    "\n",
    "import random\n",
    "import os"
   ]
  },
  {
   "cell_type": "markdown",
   "metadata": {},
   "source": [
    "## Seeding all random parameters for reproducibility"
   ]
  },
  {
   "cell_type": "code",
   "execution_count": 2,
   "metadata": {
    "_cell_guid": "79c7e3d0-c299-4dcb-8224-4455121ee9b0",
    "_uuid": "d629ff2d2480ee46fbb7e2d37f6b5fab8052498a",
    "execution": {
     "iopub.execute_input": "2021-01-06T18:02:11.735471Z",
     "iopub.status.busy": "2021-01-06T18:02:11.734765Z",
     "iopub.status.idle": "2021-01-06T18:02:11.739005Z",
     "shell.execute_reply": "2021-01-06T18:02:11.738472Z"
    },
    "papermill": {
     "duration": 0.019361,
     "end_time": "2021-01-06T18:02:11.739151",
     "exception": false,
     "start_time": "2021-01-06T18:02:11.719790",
     "status": "completed"
    },
    "tags": []
   },
   "outputs": [],
   "source": [
    "# Random seed\n",
    "SEED = 123\n",
    "\n",
    "# Function to seed everything\n",
    "def seed_everything(seed):\n",
    "    random.seed(seed)\n",
    "    np.random.seed(seed)\n",
    "    os.environ['PYTHONHASHSEED'] = str(seed)\n",
    "    \n",
    "seed_everything(SEED)"
   ]
  },
  {
   "cell_type": "markdown",
   "metadata": {},
   "source": [
    "## Reading the dataset"
   ]
  },
  {
   "cell_type": "code",
   "execution_count": 3,
   "metadata": {
    "execution": {
     "iopub.execute_input": "2021-01-06T18:02:11.762981Z",
     "iopub.status.busy": "2021-01-06T18:02:11.762343Z",
     "iopub.status.idle": "2021-01-06T18:02:36.127716Z",
     "shell.execute_reply": "2021-01-06T18:02:36.126856Z"
    },
    "papermill": {
     "duration": 24.380084,
     "end_time": "2021-01-06T18:02:36.127838",
     "exception": false,
     "start_time": "2021-01-06T18:02:11.747754",
     "status": "completed"
    },
    "tags": []
   },
   "outputs": [],
   "source": [
    "df1 = pd.read_feather('../input/riiid-feature-engineering-1-3-correct/riiid_train1.feather')\n",
    "df2 = pd.read_feather('../input/riiid-feature-engineering-2-3-correct/riiid_train2.feather')\n",
    "df = pd.concat([df1,df2], axis = 0)\n",
    "df.reset_index(drop = True, inplace = True)\n",
    "del df1, df2"
   ]
  },
  {
   "cell_type": "code",
   "execution_count": 4,
   "metadata": {
    "execution": {
     "iopub.execute_input": "2021-01-06T18:02:36.226293Z",
     "iopub.status.busy": "2021-01-06T18:02:36.223112Z",
     "iopub.status.idle": "2021-01-06T18:02:36.230144Z",
     "shell.execute_reply": "2021-01-06T18:02:36.230799Z"
    },
    "papermill": {
     "duration": 0.094399,
     "end_time": "2021-01-06T18:02:36.230962",
     "exception": false,
     "start_time": "2021-01-06T18:02:36.136563",
     "status": "completed"
    },
    "tags": []
   },
   "outputs": [
    {
     "data": {
      "text/plain": [
       "20"
      ]
     },
     "execution_count": 4,
     "metadata": {},
     "output_type": "execute_result"
    }
   ],
   "source": [
    "train = df.iloc[:50000000]\n",
    "valid = df.iloc[50000000:]\n",
    "del df\n",
    "gc.collect()"
   ]
  },
  {
   "cell_type": "code",
   "execution_count": 5,
   "metadata": {
    "execution": {
     "iopub.execute_input": "2021-01-06T18:02:36.272265Z",
     "iopub.status.busy": "2021-01-06T18:02:36.271280Z",
     "iopub.status.idle": "2021-01-06T18:02:36.274582Z",
     "shell.execute_reply": "2021-01-06T18:02:36.273592Z"
    },
    "papermill": {
     "duration": 0.023715,
     "end_time": "2021-01-06T18:02:36.274747",
     "exception": false,
     "start_time": "2021-01-06T18:02:36.251032",
     "status": "completed"
    },
    "tags": []
   },
   "outputs": [],
   "source": [
    "# train = pd.read_feather('../input/riiid-feature-engineering-2-3-correct/riiid_train2.feather').iloc[:20000000].reset_index(drop = True)\n",
    "# valid = pd.read_feather('../input/riiid-feature-engineering-2-3-correct/riiid_train2.feather').iloc[20000000:].reset_index(drop = True)"
   ]
  },
  {
   "cell_type": "code",
   "execution_count": 6,
   "metadata": {
    "execution": {
     "iopub.execute_input": "2021-01-06T18:02:36.313160Z",
     "iopub.status.busy": "2021-01-06T18:02:36.312339Z",
     "iopub.status.idle": "2021-01-06T18:02:36.315005Z",
     "shell.execute_reply": "2021-01-06T18:02:36.315647Z"
    },
    "papermill": {
     "duration": 0.023903,
     "end_time": "2021-01-06T18:02:36.315815",
     "exception": false,
     "start_time": "2021-01-06T18:02:36.291912",
     "status": "completed"
    },
    "tags": []
   },
   "outputs": [],
   "source": [
    "train.reset_index(drop = True, inplace = True)\n",
    "valid.reset_index(drop = True, inplace = True)"
   ]
  },
  {
   "cell_type": "markdown",
   "metadata": {},
   "source": [
    "Splitting training dataset into train and validation sets. Then extracting meaningful features for training"
   ]
  },
  {
   "cell_type": "code",
   "execution_count": 7,
   "metadata": {
    "execution": {
     "iopub.execute_input": "2021-01-06T18:02:36.343429Z",
     "iopub.status.busy": "2021-01-06T18:02:36.342748Z",
     "iopub.status.idle": "2021-01-06T18:03:00.143278Z",
     "shell.execute_reply": "2021-01-06T18:03:00.142389Z"
    },
    "papermill": {
     "duration": 23.813682,
     "end_time": "2021-01-06T18:03:00.143418",
     "exception": false,
     "start_time": "2021-01-06T18:02:36.329736",
     "status": "completed"
    },
    "tags": []
   },
   "outputs": [
    {
     "data": {
      "text/plain": [
       "0"
      ]
     },
     "execution_count": 7,
     "metadata": {},
     "output_type": "execute_result"
    }
   ],
   "source": [
    "TARGET = 'answered_correctly'\n",
    "\n",
    "FEATURES = ['prior_question_elapsed_time', 'prior_question_had_explanation', 'answered_correctly_u_avg',\n",
    "        'explanation_u_avg', 'part', 'community',\n",
    "       'answered_correctly_q_avg', 'explanation_q_avg', 'elapsed_time_q_avg',\n",
    "       'timestamp_u_recency_1', 'timestamp_u_recency_2',\n",
    "       'timestamp_u_recency_3', 'timestamp_u_incorrect_recency',\n",
    "       'num_lectures', 'num_0', 'num_1', 'num_2', 'num_3',\n",
    "       'answered_correctly_uq_count']\n",
    "\n",
    "# Shuffle\n",
    "train = train.sample(40000000, random_state = SEED)\n",
    "gc.collect()\n",
    "\n",
    "drop_cols = list(set(train.columns) - set(FEATURES))\n",
    "y_train = train[TARGET]\n",
    "y_val = valid[TARGET]\n",
    "# Drop unnecessary columns\n",
    "train = train[FEATURES]\n",
    "valid = valid[FEATURES]\n",
    "gc.collect()\n",
    "\n",
    "lgb_train = lgb.Dataset(train[FEATURES], y_train, categorical_feature = [4, 5])\n",
    "lgb_valid = lgb.Dataset(valid[FEATURES], y_val, categorical_feature = [4, 5])\n",
    "del train, y_train, valid, y_val\n",
    "gc.collect()"
   ]
  },
  {
   "cell_type": "markdown",
   "metadata": {},
   "source": [
    "# Light Gradient Boosting Machine"
   ]
  },
  {
   "cell_type": "markdown",
   "metadata": {},
   "source": [
    "Creating LGBM model with some parameters and training it with data which was processed above. Assigning **part** and **community** as categorical features. Finally I plotted the feature importance according to lgbm."
   ]
  },
  {
   "cell_type": "code",
   "execution_count": 8,
   "metadata": {
    "execution": {
     "iopub.execute_input": "2021-01-06T18:03:00.183306Z",
     "iopub.status.busy": "2021-01-06T18:03:00.182419Z",
     "iopub.status.idle": "2021-01-06T20:31:02.694652Z",
     "shell.execute_reply": "2021-01-06T20:31:02.695226Z"
    },
    "papermill": {
     "duration": 8882.536879,
     "end_time": "2021-01-06T20:31:02.695407",
     "exception": false,
     "start_time": "2021-01-06T18:03:00.158528",
     "status": "completed"
    },
    "tags": []
   },
   "outputs": [
    {
     "name": "stdout",
     "output_type": "stream",
     "text": [
      "Training until validation scores don't improve for 150 rounds\n",
      "[100]\tvalid_0's auc: 0.773678\n",
      "[200]\tvalid_0's auc: 0.775335\n",
      "[300]\tvalid_0's auc: 0.775781\n",
      "[400]\tvalid_0's auc: 0.776095\n",
      "[500]\tvalid_0's auc: 0.776344\n",
      "[600]\tvalid_0's auc: 0.776464\n",
      "[700]\tvalid_0's auc: 0.7766\n",
      "[800]\tvalid_0's auc: 0.77671\n",
      "[900]\tvalid_0's auc: 0.776756\n",
      "[1000]\tvalid_0's auc: 0.776811\n",
      "[1100]\tvalid_0's auc: 0.776865\n",
      "[1200]\tvalid_0's auc: 0.776892\n",
      "[1300]\tvalid_0's auc: 0.776926\n",
      "[1400]\tvalid_0's auc: 0.776952\n",
      "[1500]\tvalid_0's auc: 0.776981\n",
      "[1600]\tvalid_0's auc: 0.777014\n",
      "[1700]\tvalid_0's auc: 0.77702\n",
      "[1800]\tvalid_0's auc: 0.77704\n",
      "[1900]\tvalid_0's auc: 0.777046\n",
      "[2000]\tvalid_0's auc: 0.777064\n",
      "[2100]\tvalid_0's auc: 0.77706\n",
      "Early stopping, best iteration is:\n",
      "[2012]\tvalid_0's auc: 0.777067\n"
     ]
    },
    {
     "data": {
      "image/png": "[encoded data removed]",
      "text/plain": [
       "<Figure size 720x720 with 1 Axes>"
      ]
     },
     "metadata": {
      "needs_background": "light"
     },
     "output_type": "display_data"
    },
    {
     "name": "stdout",
     "output_type": "stream",
     "text": [
      "CPU times: user 8h 49min 33s, sys: 4min 7s, total: 8h 53min 41s\n",
      "Wall time: 2h 28min 2s\n"
     ]
    }
   ],
   "source": [
    "%%time\n",
    "params = {'objective': 'binary', \n",
    "          'seed': SEED,\n",
    "          'metric': 'auc',\n",
    "          'num_leaves': 200,\n",
    "          'feature_fraction': 0.75,\n",
    "          'bagging_freq': 10,\n",
    "          'bagging_fraction': 0.80,\n",
    "         }\n",
    "\n",
    "model = lgb.train(\n",
    "    params = params,\n",
    "    train_set = lgb_train,\n",
    "    num_boost_round = 3000,\n",
    "    valid_sets = [lgb_valid],\n",
    "    categorical_feature = [4, 5],\n",
    "    early_stopping_rounds = 150,\n",
    "    verbose_eval = 100,\n",
    "#     init_model = '../input/lgb-riiid/lgb_loop_30M.txt'\n",
    ")\n",
    "\n",
    "feature_importance = model.feature_importance()\n",
    "feature_importance = pd.DataFrame({'Features': FEATURES, 'Importance': feature_importance}).sort_values('Importance', ascending = False)\n",
    "\n",
    "fig = plt.figure(figsize = (10, 10))\n",
    "fig.suptitle('Feature Importance', fontsize = 20)\n",
    "plt.tick_params(axis = 'x', labelsize = 12)\n",
    "plt.tick_params(axis = 'y', labelsize = 12)\n",
    "plt.xlabel('Importance', fontsize = 15)\n",
    "plt.ylabel('Features', fontsize = 15)\n",
    "sns.barplot(x = feature_importance['Importance'], y = feature_importance['Features'], orient = 'h')\n",
    "plt.show()\n"
   ]
  }
 ],
 "metadata": {
  "kernelspec": {
   "display_name": "Python 3",
   "language": "python",
   "name": "python3"
  },
  "language_info": {
   "codemirror_mode": {
    "name": "ipython",
    "version": 3
   },
   "file_extension": ".py",
   "mimetype": "text/x-python",
   "name": "python",
   "nbconvert_exporter": "python",
   "pygments_lexer": "ipython3",
   "version": "3.6.8"
  },
  "papermill": {
   "duration": 8939.84117,
   "end_time": "2021-01-06T20:31:04.243494",
   "environment_variables": {},
   "exception": null,
   "input_path": "__notebook__.ipynb",
   "output_path": "__notebook__.ipynb",
   "parameters": {},
   "start_time": "2021-01-06T18:02:04.402324",
   "version": "2.1.0"
  }
 },
 "nbformat": 4,
 "nbformat_minor": 4
}
